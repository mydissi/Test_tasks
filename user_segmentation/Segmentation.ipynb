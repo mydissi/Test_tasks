{
 "cells": [
  {
   "cell_type": "code",
   "execution_count": 1,
   "metadata": {},
   "outputs": [],
   "source": [
    "from __future__ import print_function\n",
    "import time\n",
    "import numpy as np\n",
    "import pandas as pd\n",
    "from sklearn.datasets import fetch_mldata\n",
    "from sklearn.decomposition import PCA\n",
    "from sklearn.manifold import TSNE\n",
    "%matplotlib inline\n",
    "import matplotlib.pyplot as plt\n",
    "from mpl_toolkits.mplot3d import Axes3D\n",
    "import seaborn as sns\n",
    "import random"
   ]
  },
  {
   "cell_type": "code",
   "execution_count": 2,
   "metadata": {},
   "outputs": [],
   "source": [
    "from sklearn.preprocessing import StandardScaler\n"
   ]
  },
  {
   "cell_type": "code",
   "execution_count": null,
   "metadata": {},
   "outputs": [],
   "source": []
  },
  {
   "cell_type": "code",
   "execution_count": 313,
   "metadata": {},
   "outputs": [],
   "source": [
    "segment_directory = \"data/segmentation.csv\"\n",
    "\n",
    "segment = pd.read_csv(segment_directory, header=0,parse_dates=['Recency'])\n"
   ]
  },
  {
   "cell_type": "code",
   "execution_count": 314,
   "metadata": {},
   "outputs": [
    {
     "data": {
      "text/html": [
       "<div>\n",
       "<style scoped>\n",
       "    .dataframe tbody tr th:only-of-type {\n",
       "        vertical-align: middle;\n",
       "    }\n",
       "\n",
       "    .dataframe tbody tr th {\n",
       "        vertical-align: top;\n",
       "    }\n",
       "\n",
       "    .dataframe thead th {\n",
       "        text-align: right;\n",
       "    }\n",
       "</style>\n",
       "<table border=\"1\" class=\"dataframe\">\n",
       "  <thead>\n",
       "    <tr style=\"text-align: right;\">\n",
       "      <th></th>\n",
       "      <th>CustomerId</th>\n",
       "      <th>Monetary</th>\n",
       "      <th>Recency</th>\n",
       "      <th>Frequency</th>\n",
       "      <th>factor_1</th>\n",
       "      <th>factor_2</th>\n",
       "      <th>factor_3</th>\n",
       "      <th>factor_4</th>\n",
       "    </tr>\n",
       "  </thead>\n",
       "  <tbody>\n",
       "    <tr>\n",
       "      <th>0</th>\n",
       "      <td>8b4f8c66-7589-4734-8ada-2d42f60540ab</td>\n",
       "      <td>100.40</td>\n",
       "      <td>2019-06-04</td>\n",
       "      <td>6</td>\n",
       "      <td>0.35</td>\n",
       "      <td>0.08</td>\n",
       "      <td>0.609740</td>\n",
       "      <td>0.949383</td>\n",
       "    </tr>\n",
       "    <tr>\n",
       "      <th>1</th>\n",
       "      <td>2151b2a2-8867-4986-9e00-449c2b4f89e9</td>\n",
       "      <td>170.00</td>\n",
       "      <td>2019-05-25</td>\n",
       "      <td>4</td>\n",
       "      <td>0.66</td>\n",
       "      <td>0.16</td>\n",
       "      <td>0.942272</td>\n",
       "      <td>0.479846</td>\n",
       "    </tr>\n",
       "    <tr>\n",
       "      <th>2</th>\n",
       "      <td>3111db79-6721-4ec0-82b1-30b810649c5e</td>\n",
       "      <td>70.75</td>\n",
       "      <td>2019-05-25</td>\n",
       "      <td>6</td>\n",
       "      <td>0.92</td>\n",
       "      <td>0.20</td>\n",
       "      <td>0.323030</td>\n",
       "      <td>0.007076</td>\n",
       "    </tr>\n",
       "    <tr>\n",
       "      <th>3</th>\n",
       "      <td>9cb76426-cc5d-4fa3-88bc-b92314b9f4e8</td>\n",
       "      <td>75.00</td>\n",
       "      <td>2019-03-20</td>\n",
       "      <td>10</td>\n",
       "      <td>0.35</td>\n",
       "      <td>0.78</td>\n",
       "      <td>0.876833</td>\n",
       "      <td>0.088974</td>\n",
       "    </tr>\n",
       "    <tr>\n",
       "      <th>4</th>\n",
       "      <td>5d86caeb-2d53-44a7-b379-7f15f06ca821</td>\n",
       "      <td>94.51</td>\n",
       "      <td>2019-04-10</td>\n",
       "      <td>5</td>\n",
       "      <td>0.51</td>\n",
       "      <td>0.44</td>\n",
       "      <td>0.912099</td>\n",
       "      <td>0.206194</td>\n",
       "    </tr>\n",
       "  </tbody>\n",
       "</table>\n",
       "</div>"
      ],
      "text/plain": [
       "                             CustomerId  Monetary    Recency  Frequency  \\\n",
       "0  8b4f8c66-7589-4734-8ada-2d42f60540ab    100.40 2019-06-04          6   \n",
       "1  2151b2a2-8867-4986-9e00-449c2b4f89e9    170.00 2019-05-25          4   \n",
       "2  3111db79-6721-4ec0-82b1-30b810649c5e     70.75 2019-05-25          6   \n",
       "3  9cb76426-cc5d-4fa3-88bc-b92314b9f4e8     75.00 2019-03-20         10   \n",
       "4  5d86caeb-2d53-44a7-b379-7f15f06ca821     94.51 2019-04-10          5   \n",
       "\n",
       "   factor_1  factor_2  factor_3  factor_4  \n",
       "0      0.35      0.08  0.609740  0.949383  \n",
       "1      0.66      0.16  0.942272  0.479846  \n",
       "2      0.92      0.20  0.323030  0.007076  \n",
       "3      0.35      0.78  0.876833  0.088974  \n",
       "4      0.51      0.44  0.912099  0.206194  "
      ]
     },
     "execution_count": 314,
     "metadata": {},
     "output_type": "execute_result"
    }
   ],
   "source": [
    "segment.head()"
   ]
  },
  {
   "cell_type": "code",
   "execution_count": null,
   "metadata": {},
   "outputs": [],
   "source": []
  },
  {
   "cell_type": "markdown",
   "metadata": {},
   "source": [
    "Для начала избавимся от CustomerId и Recency, ко второму, скорее всего, мы еще вернемся"
   ]
  },
  {
   "cell_type": "code",
   "execution_count": 315,
   "metadata": {},
   "outputs": [],
   "source": [
    "segment_dropped = segment.drop(columns=['CustomerId','Recency'],axis=1)"
   ]
  },
  {
   "cell_type": "markdown",
   "metadata": {},
   "source": [
    "У нас есть общие затраты и их количество, можем рассмотреть среднее для каждого покупателя"
   ]
  },
  {
   "cell_type": "code",
   "execution_count": 316,
   "metadata": {},
   "outputs": [],
   "source": [
    "segment_dropped['mean'] = segment_dropped['Monetary']/segment_dropped['Frequency']"
   ]
  },
  {
   "cell_type": "code",
   "execution_count": 317,
   "metadata": {},
   "outputs": [
    {
     "data": {
      "text/html": [
       "<div>\n",
       "<style scoped>\n",
       "    .dataframe tbody tr th:only-of-type {\n",
       "        vertical-align: middle;\n",
       "    }\n",
       "\n",
       "    .dataframe tbody tr th {\n",
       "        vertical-align: top;\n",
       "    }\n",
       "\n",
       "    .dataframe thead th {\n",
       "        text-align: right;\n",
       "    }\n",
       "</style>\n",
       "<table border=\"1\" class=\"dataframe\">\n",
       "  <thead>\n",
       "    <tr style=\"text-align: right;\">\n",
       "      <th></th>\n",
       "      <th>Monetary</th>\n",
       "      <th>Frequency</th>\n",
       "      <th>factor_1</th>\n",
       "      <th>factor_2</th>\n",
       "      <th>factor_3</th>\n",
       "      <th>factor_4</th>\n",
       "      <th>mean</th>\n",
       "    </tr>\n",
       "  </thead>\n",
       "  <tbody>\n",
       "    <tr>\n",
       "      <th>0</th>\n",
       "      <td>100.40</td>\n",
       "      <td>6</td>\n",
       "      <td>0.35</td>\n",
       "      <td>0.08</td>\n",
       "      <td>0.609740</td>\n",
       "      <td>0.949383</td>\n",
       "      <td>16.733333</td>\n",
       "    </tr>\n",
       "    <tr>\n",
       "      <th>1</th>\n",
       "      <td>170.00</td>\n",
       "      <td>4</td>\n",
       "      <td>0.66</td>\n",
       "      <td>0.16</td>\n",
       "      <td>0.942272</td>\n",
       "      <td>0.479846</td>\n",
       "      <td>42.500000</td>\n",
       "    </tr>\n",
       "    <tr>\n",
       "      <th>2</th>\n",
       "      <td>70.75</td>\n",
       "      <td>6</td>\n",
       "      <td>0.92</td>\n",
       "      <td>0.20</td>\n",
       "      <td>0.323030</td>\n",
       "      <td>0.007076</td>\n",
       "      <td>11.791667</td>\n",
       "    </tr>\n",
       "    <tr>\n",
       "      <th>3</th>\n",
       "      <td>75.00</td>\n",
       "      <td>10</td>\n",
       "      <td>0.35</td>\n",
       "      <td>0.78</td>\n",
       "      <td>0.876833</td>\n",
       "      <td>0.088974</td>\n",
       "      <td>7.500000</td>\n",
       "    </tr>\n",
       "    <tr>\n",
       "      <th>4</th>\n",
       "      <td>94.51</td>\n",
       "      <td>5</td>\n",
       "      <td>0.51</td>\n",
       "      <td>0.44</td>\n",
       "      <td>0.912099</td>\n",
       "      <td>0.206194</td>\n",
       "      <td>18.902000</td>\n",
       "    </tr>\n",
       "  </tbody>\n",
       "</table>\n",
       "</div>"
      ],
      "text/plain": [
       "   Monetary  Frequency  factor_1  factor_2  factor_3  factor_4       mean\n",
       "0    100.40          6      0.35      0.08  0.609740  0.949383  16.733333\n",
       "1    170.00          4      0.66      0.16  0.942272  0.479846  42.500000\n",
       "2     70.75          6      0.92      0.20  0.323030  0.007076  11.791667\n",
       "3     75.00         10      0.35      0.78  0.876833  0.088974   7.500000\n",
       "4     94.51          5      0.51      0.44  0.912099  0.206194  18.902000"
      ]
     },
     "execution_count": 317,
     "metadata": {},
     "output_type": "execute_result"
    }
   ],
   "source": [
    "segment_dropped.head()"
   ]
  },
  {
   "cell_type": "markdown",
   "metadata": {},
   "source": [
    "Построим график зависимости среднего значения от частоты. По нему можно сказать, что чем больше транзакций происходит у пользователя, тем меньше средняя стоимость этой транзакции "
   ]
  },
  {
   "cell_type": "code",
   "execution_count": 318,
   "metadata": {},
   "outputs": [
    {
     "data": {
      "image/png": "[encoded data removed]",
      "text/plain": [
       "<Figure size 432x288 with 1 Axes>"
      ]
     },
     "metadata": {
      "needs_background": "light"
     },
     "output_type": "display_data"
    }
   ],
   "source": [
    "plt.scatter(x=segment_dropped['mean'],y=segment_dropped['Frequency']);"
   ]
  },
  {
   "cell_type": "markdown",
   "metadata": {},
   "source": [
    "Попробуем оценить клиентов по количеству платежей, посмотрим статистику для тех, у кого был совершен только один платеж "
   ]
  },
  {
   "cell_type": "code",
   "execution_count": 319,
   "metadata": {},
   "outputs": [
    {
     "data": {
      "text/html": [
       "<div>\n",
       "<style scoped>\n",
       "    .dataframe tbody tr th:only-of-type {\n",
       "        vertical-align: middle;\n",
       "    }\n",
       "\n",
       "    .dataframe tbody tr th {\n",
       "        vertical-align: top;\n",
       "    }\n",
       "\n",
       "    .dataframe thead th {\n",
       "        text-align: right;\n",
       "    }\n",
       "</style>\n",
       "<table border=\"1\" class=\"dataframe\">\n",
       "  <thead>\n",
       "    <tr style=\"text-align: right;\">\n",
       "      <th></th>\n",
       "      <th>Monetary</th>\n",
       "      <th>Frequency</th>\n",
       "      <th>factor_1</th>\n",
       "      <th>factor_2</th>\n",
       "      <th>factor_3</th>\n",
       "      <th>factor_4</th>\n",
       "      <th>mean</th>\n",
       "    </tr>\n",
       "  </thead>\n",
       "  <tbody>\n",
       "    <tr>\n",
       "      <th>count</th>\n",
       "      <td>5530.000000</td>\n",
       "      <td>5530.0</td>\n",
       "      <td>5530.000000</td>\n",
       "      <td>5530.000000</td>\n",
       "      <td>5530.000000</td>\n",
       "      <td>5530.000000</td>\n",
       "      <td>5530.000000</td>\n",
       "    </tr>\n",
       "    <tr>\n",
       "      <th>mean</th>\n",
       "      <td>39.595009</td>\n",
       "      <td>1.0</td>\n",
       "      <td>0.499792</td>\n",
       "      <td>0.494919</td>\n",
       "      <td>0.495766</td>\n",
       "      <td>0.499357</td>\n",
       "      <td>39.595009</td>\n",
       "    </tr>\n",
       "    <tr>\n",
       "      <th>std</th>\n",
       "      <td>77.455206</td>\n",
       "      <td>0.0</td>\n",
       "      <td>0.291386</td>\n",
       "      <td>0.291027</td>\n",
       "      <td>0.289140</td>\n",
       "      <td>0.285901</td>\n",
       "      <td>77.455206</td>\n",
       "    </tr>\n",
       "    <tr>\n",
       "      <th>min</th>\n",
       "      <td>0.000000</td>\n",
       "      <td>1.0</td>\n",
       "      <td>0.000000</td>\n",
       "      <td>0.000000</td>\n",
       "      <td>0.000176</td>\n",
       "      <td>0.000107</td>\n",
       "      <td>0.000000</td>\n",
       "    </tr>\n",
       "    <tr>\n",
       "      <th>25%</th>\n",
       "      <td>8.322500</td>\n",
       "      <td>1.0</td>\n",
       "      <td>0.250000</td>\n",
       "      <td>0.240000</td>\n",
       "      <td>0.242593</td>\n",
       "      <td>0.254295</td>\n",
       "      <td>8.322500</td>\n",
       "    </tr>\n",
       "    <tr>\n",
       "      <th>50%</th>\n",
       "      <td>19.860000</td>\n",
       "      <td>1.0</td>\n",
       "      <td>0.500000</td>\n",
       "      <td>0.500000</td>\n",
       "      <td>0.499507</td>\n",
       "      <td>0.496084</td>\n",
       "      <td>19.860000</td>\n",
       "    </tr>\n",
       "    <tr>\n",
       "      <th>75%</th>\n",
       "      <td>42.230000</td>\n",
       "      <td>1.0</td>\n",
       "      <td>0.750000</td>\n",
       "      <td>0.750000</td>\n",
       "      <td>0.739781</td>\n",
       "      <td>0.746769</td>\n",
       "      <td>42.230000</td>\n",
       "    </tr>\n",
       "    <tr>\n",
       "      <th>max</th>\n",
       "      <td>504.000000</td>\n",
       "      <td>1.0</td>\n",
       "      <td>1.000000</td>\n",
       "      <td>1.000000</td>\n",
       "      <td>0.999992</td>\n",
       "      <td>0.999943</td>\n",
       "      <td>504.000000</td>\n",
       "    </tr>\n",
       "  </tbody>\n",
       "</table>\n",
       "</div>"
      ],
      "text/plain": [
       "          Monetary  Frequency     factor_1     factor_2     factor_3  \\\n",
       "count  5530.000000     5530.0  5530.000000  5530.000000  5530.000000   \n",
       "mean     39.595009        1.0     0.499792     0.494919     0.495766   \n",
       "std      77.455206        0.0     0.291386     0.291027     0.289140   \n",
       "min       0.000000        1.0     0.000000     0.000000     0.000176   \n",
       "25%       8.322500        1.0     0.250000     0.240000     0.242593   \n",
       "50%      19.860000        1.0     0.500000     0.500000     0.499507   \n",
       "75%      42.230000        1.0     0.750000     0.750000     0.739781   \n",
       "max     504.000000        1.0     1.000000     1.000000     0.999992   \n",
       "\n",
       "          factor_4         mean  \n",
       "count  5530.000000  5530.000000  \n",
       "mean      0.499357    39.595009  \n",
       "std       0.285901    77.455206  \n",
       "min       0.000107     0.000000  \n",
       "25%       0.254295     8.322500  \n",
       "50%       0.496084    19.860000  \n",
       "75%       0.746769    42.230000  \n",
       "max       0.999943   504.000000  "
      ]
     },
     "execution_count": 319,
     "metadata": {},
     "output_type": "execute_result"
    }
   ],
   "source": [
    "one_time=(segment_dropped[segment_dropped['Frequency'] == 1])\n",
    "one_time.describe()"
   ]
  },
  {
   "cell_type": "markdown",
   "metadata": {},
   "source": [
    "Для тех, у кого было больше одного платежа"
   ]
  },
  {
   "cell_type": "code",
   "execution_count": 320,
   "metadata": {},
   "outputs": [
    {
     "data": {
      "text/html": [
       "<div>\n",
       "<style scoped>\n",
       "    .dataframe tbody tr th:only-of-type {\n",
       "        vertical-align: middle;\n",
       "    }\n",
       "\n",
       "    .dataframe tbody tr th {\n",
       "        vertical-align: top;\n",
       "    }\n",
       "\n",
       "    .dataframe thead th {\n",
       "        text-align: right;\n",
       "    }\n",
       "</style>\n",
       "<table border=\"1\" class=\"dataframe\">\n",
       "  <thead>\n",
       "    <tr style=\"text-align: right;\">\n",
       "      <th></th>\n",
       "      <th>Monetary</th>\n",
       "      <th>Frequency</th>\n",
       "      <th>factor_1</th>\n",
       "      <th>factor_2</th>\n",
       "      <th>factor_3</th>\n",
       "      <th>factor_4</th>\n",
       "      <th>mean</th>\n",
       "    </tr>\n",
       "  </thead>\n",
       "  <tbody>\n",
       "    <tr>\n",
       "      <th>count</th>\n",
       "      <td>10470.000000</td>\n",
       "      <td>10470.000000</td>\n",
       "      <td>10470.000000</td>\n",
       "      <td>10470.000000</td>\n",
       "      <td>10470.000000</td>\n",
       "      <td>10470.000000</td>\n",
       "      <td>10470.000000</td>\n",
       "    </tr>\n",
       "    <tr>\n",
       "      <th>mean</th>\n",
       "      <td>177.707337</td>\n",
       "      <td>5.509169</td>\n",
       "      <td>0.500122</td>\n",
       "      <td>0.499419</td>\n",
       "      <td>0.495284</td>\n",
       "      <td>0.497936</td>\n",
       "      <td>34.973321</td>\n",
       "    </tr>\n",
       "    <tr>\n",
       "      <th>std</th>\n",
       "      <td>199.117546</td>\n",
       "      <td>5.842446</td>\n",
       "      <td>0.289500</td>\n",
       "      <td>0.291145</td>\n",
       "      <td>0.288992</td>\n",
       "      <td>0.289843</td>\n",
       "      <td>34.107268</td>\n",
       "    </tr>\n",
       "    <tr>\n",
       "      <th>min</th>\n",
       "      <td>0.000000</td>\n",
       "      <td>2.000000</td>\n",
       "      <td>0.000000</td>\n",
       "      <td>0.000000</td>\n",
       "      <td>0.000037</td>\n",
       "      <td>0.000033</td>\n",
       "      <td>0.000000</td>\n",
       "    </tr>\n",
       "    <tr>\n",
       "      <th>25%</th>\n",
       "      <td>46.770000</td>\n",
       "      <td>2.000000</td>\n",
       "      <td>0.250000</td>\n",
       "      <td>0.240000</td>\n",
       "      <td>0.242405</td>\n",
       "      <td>0.245147</td>\n",
       "      <td>14.295417</td>\n",
       "    </tr>\n",
       "    <tr>\n",
       "      <th>50%</th>\n",
       "      <td>110.000000</td>\n",
       "      <td>4.000000</td>\n",
       "      <td>0.500000</td>\n",
       "      <td>0.500000</td>\n",
       "      <td>0.494338</td>\n",
       "      <td>0.500293</td>\n",
       "      <td>24.594687</td>\n",
       "    </tr>\n",
       "    <tr>\n",
       "      <th>75%</th>\n",
       "      <td>245.000000</td>\n",
       "      <td>6.000000</td>\n",
       "      <td>0.750000</td>\n",
       "      <td>0.750000</td>\n",
       "      <td>0.746800</td>\n",
       "      <td>0.747523</td>\n",
       "      <td>42.863750</td>\n",
       "    </tr>\n",
       "    <tr>\n",
       "      <th>max</th>\n",
       "      <td>3040.000000</td>\n",
       "      <td>111.000000</td>\n",
       "      <td>1.000000</td>\n",
       "      <td>1.000000</td>\n",
       "      <td>0.999996</td>\n",
       "      <td>0.999705</td>\n",
       "      <td>320.000000</td>\n",
       "    </tr>\n",
       "  </tbody>\n",
       "</table>\n",
       "</div>"
      ],
      "text/plain": [
       "           Monetary     Frequency      factor_1      factor_2      factor_3  \\\n",
       "count  10470.000000  10470.000000  10470.000000  10470.000000  10470.000000   \n",
       "mean     177.707337      5.509169      0.500122      0.499419      0.495284   \n",
       "std      199.117546      5.842446      0.289500      0.291145      0.288992   \n",
       "min        0.000000      2.000000      0.000000      0.000000      0.000037   \n",
       "25%       46.770000      2.000000      0.250000      0.240000      0.242405   \n",
       "50%      110.000000      4.000000      0.500000      0.500000      0.494338   \n",
       "75%      245.000000      6.000000      0.750000      0.750000      0.746800   \n",
       "max     3040.000000    111.000000      1.000000      1.000000      0.999996   \n",
       "\n",
       "           factor_4          mean  \n",
       "count  10470.000000  10470.000000  \n",
       "mean       0.497936     34.973321  \n",
       "std        0.289843     34.107268  \n",
       "min        0.000033      0.000000  \n",
       "25%        0.245147     14.295417  \n",
       "50%        0.500293     24.594687  \n",
       "75%        0.747523     42.863750  \n",
       "max        0.999705    320.000000  "
      ]
     },
     "execution_count": 320,
     "metadata": {},
     "output_type": "execute_result"
    }
   ],
   "source": [
    "several_time=(segment_dropped[segment_dropped['Frequency'] > 1])\n",
    "several_time.describe()"
   ]
  },
  {
   "cell_type": "markdown",
   "metadata": {},
   "source": [
    "Исходя из этих двух таблиц можно обратить внимание на ряд вещей:\n",
    "1. Пользователей, совершивших больше одного платежа вдвое больше\n",
    "2. Средний чек у пользователей, совершивших только один платеж выше, однако медиана ниже\n",
    "3. 75% квантиль у групп одинаковый\n",
    "4. Поведение факторов 1-4 – очень подозрительное, похоже на то, что они не дают никакой информации.\n",
    "\n",
    "Вывод: разбивать пользователей на две группы по количеству транзакций неэффективно."
   ]
  },
  {
   "cell_type": "markdown",
   "metadata": {},
   "source": [
    "Попробуем визуализировать Monetary и factor 1-4"
   ]
  },
  {
   "cell_type": "code",
   "execution_count": 321,
   "metadata": {},
   "outputs": [
    {
     "data": {
      "image/png": "[encoded data removed]",
      "text/plain": [
       "<Figure size 432x288 with 1 Axes>"
      ]
     },
     "metadata": {
      "needs_background": "light"
     },
     "output_type": "display_data"
    }
   ],
   "source": [
    "plt.scatter(x=segment_dropped['Monetary'],y=segment_dropped['factor_4']);"
   ]
  },
  {
   "cell_type": "markdown",
   "metadata": {},
   "source": [
    "Гипотеза о том, что эти четыре фактора ведут себя очень похоже, почти одинаково, подтвердилась. Исходя из этого можно сказать, что если они не просто создают шум, а дают какую-то информацию, то можно использовать один из них"
   ]
  },
  {
   "cell_type": "markdown",
   "metadata": {},
   "source": [
    "Попробуем посмотреть, сколько главных компонент нужно, чтобы объяснить 100 процентов дисперсии"
   ]
  },
  {
   "cell_type": "code",
   "execution_count": 322,
   "metadata": {},
   "outputs": [],
   "source": [
    "pca = PCA(n_components=0.99)\n",
    "pca_result = pca.fit_transform(segment_dropped[['Monetary' ,'Frequency'\n",
    "                                       ,'factor_1','factor_2' ,'factor_3' , 'factor_4','mean']].values)"
   ]
  },
  {
   "cell_type": "code",
   "execution_count": 323,
   "metadata": {},
   "outputs": [
    {
     "data": {
      "text/plain": [
       "(16000, 2)"
      ]
     },
     "execution_count": 323,
     "metadata": {},
     "output_type": "execute_result"
    }
   ],
   "source": [
    "pca_result.shape"
   ]
  },
  {
   "cell_type": "code",
   "execution_count": 324,
   "metadata": {},
   "outputs": [],
   "source": [
    "segment_dropped['pca-one'] = pca_result[:,0]\n",
    "segment_dropped['pca-two'] = pca_result[:,1] "
   ]
  },
  {
   "cell_type": "code",
   "execution_count": 325,
   "metadata": {},
   "outputs": [
    {
     "data": {
      "text/html": [
       "<div>\n",
       "<style scoped>\n",
       "    .dataframe tbody tr th:only-of-type {\n",
       "        vertical-align: middle;\n",
       "    }\n",
       "\n",
       "    .dataframe tbody tr th {\n",
       "        vertical-align: top;\n",
       "    }\n",
       "\n",
       "    .dataframe thead th {\n",
       "        text-align: right;\n",
       "    }\n",
       "</style>\n",
       "<table border=\"1\" class=\"dataframe\">\n",
       "  <thead>\n",
       "    <tr style=\"text-align: right;\">\n",
       "      <th></th>\n",
       "      <th>Monetary</th>\n",
       "      <th>Frequency</th>\n",
       "      <th>factor_1</th>\n",
       "      <th>factor_2</th>\n",
       "      <th>factor_3</th>\n",
       "      <th>factor_4</th>\n",
       "      <th>mean</th>\n",
       "      <th>pca-one</th>\n",
       "      <th>pca-two</th>\n",
       "    </tr>\n",
       "  </thead>\n",
       "  <tbody>\n",
       "    <tr>\n",
       "      <th>count</th>\n",
       "      <td>16000.000000</td>\n",
       "      <td>16000.000000</td>\n",
       "      <td>16000.000000</td>\n",
       "      <td>16000.000000</td>\n",
       "      <td>16000.000000</td>\n",
       "      <td>16000.000000</td>\n",
       "      <td>16000.000000</td>\n",
       "      <td>1.600000e+04</td>\n",
       "      <td>1.600000e+04</td>\n",
       "    </tr>\n",
       "    <tr>\n",
       "      <th>mean</th>\n",
       "      <td>129.972264</td>\n",
       "      <td>3.950687</td>\n",
       "      <td>0.500008</td>\n",
       "      <td>0.497864</td>\n",
       "      <td>0.495451</td>\n",
       "      <td>0.498427</td>\n",
       "      <td>36.570692</td>\n",
       "      <td>-2.173195e-14</td>\n",
       "      <td>-4.996448e-15</td>\n",
       "    </tr>\n",
       "    <tr>\n",
       "      <th>std</th>\n",
       "      <td>179.809263</td>\n",
       "      <td>5.189864</td>\n",
       "      <td>0.290144</td>\n",
       "      <td>0.291103</td>\n",
       "      <td>0.289034</td>\n",
       "      <td>0.288478</td>\n",
       "      <td>53.285177</td>\n",
       "      <td>1.815575e+02</td>\n",
       "      <td>4.717628e+01</td>\n",
       "    </tr>\n",
       "    <tr>\n",
       "      <th>min</th>\n",
       "      <td>0.000000</td>\n",
       "      <td>1.000000</td>\n",
       "      <td>0.000000</td>\n",
       "      <td>0.000000</td>\n",
       "      <td>0.000037</td>\n",
       "      <td>0.000033</td>\n",
       "      <td>0.000000</td>\n",
       "      <td>-1.338778e+02</td>\n",
       "      <td>-3.354931e+02</td>\n",
       "    </tr>\n",
       "    <tr>\n",
       "      <th>25%</th>\n",
       "      <td>20.910000</td>\n",
       "      <td>1.000000</td>\n",
       "      <td>0.250000</td>\n",
       "      <td>0.240000</td>\n",
       "      <td>0.242545</td>\n",
       "      <td>0.248739</td>\n",
       "      <td>13.415000</td>\n",
       "      <td>-1.111116e+02</td>\n",
       "      <td>-1.397763e+01</td>\n",
       "    </tr>\n",
       "    <tr>\n",
       "      <th>50%</th>\n",
       "      <td>59.275000</td>\n",
       "      <td>2.000000</td>\n",
       "      <td>0.500000</td>\n",
       "      <td>0.500000</td>\n",
       "      <td>0.496410</td>\n",
       "      <td>0.498833</td>\n",
       "      <td>21.250000</td>\n",
       "      <td>-7.160975e+01</td>\n",
       "      <td>-7.137319e+00</td>\n",
       "    </tr>\n",
       "    <tr>\n",
       "      <th>75%</th>\n",
       "      <td>170.000000</td>\n",
       "      <td>5.000000</td>\n",
       "      <td>0.750000</td>\n",
       "      <td>0.750000</td>\n",
       "      <td>0.744476</td>\n",
       "      <td>0.747424</td>\n",
       "      <td>42.500000</td>\n",
       "      <td>3.793304e+01</td>\n",
       "      <td>3.340762e+00</td>\n",
       "    </tr>\n",
       "    <tr>\n",
       "      <th>max</th>\n",
       "      <td>3040.000000</td>\n",
       "      <td>111.000000</td>\n",
       "      <td>1.000000</td>\n",
       "      <td>1.000000</td>\n",
       "      <td>0.999996</td>\n",
       "      <td>0.999943</td>\n",
       "      <td>504.000000</td>\n",
       "      <td>2.891277e+03</td>\n",
       "      <td>4.097225e+02</td>\n",
       "    </tr>\n",
       "  </tbody>\n",
       "</table>\n",
       "</div>"
      ],
      "text/plain": [
       "           Monetary     Frequency      factor_1      factor_2      factor_3  \\\n",
       "count  16000.000000  16000.000000  16000.000000  16000.000000  16000.000000   \n",
       "mean     129.972264      3.950687      0.500008      0.497864      0.495451   \n",
       "std      179.809263      5.189864      0.290144      0.291103      0.289034   \n",
       "min        0.000000      1.000000      0.000000      0.000000      0.000037   \n",
       "25%       20.910000      1.000000      0.250000      0.240000      0.242545   \n",
       "50%       59.275000      2.000000      0.500000      0.500000      0.496410   \n",
       "75%      170.000000      5.000000      0.750000      0.750000      0.744476   \n",
       "max     3040.000000    111.000000      1.000000      1.000000      0.999996   \n",
       "\n",
       "           factor_4          mean       pca-one       pca-two  \n",
       "count  16000.000000  16000.000000  1.600000e+04  1.600000e+04  \n",
       "mean       0.498427     36.570692 -2.173195e-14 -4.996448e-15  \n",
       "std        0.288478     53.285177  1.815575e+02  4.717628e+01  \n",
       "min        0.000033      0.000000 -1.338778e+02 -3.354931e+02  \n",
       "25%        0.248739     13.415000 -1.111116e+02 -1.397763e+01  \n",
       "50%        0.498833     21.250000 -7.160975e+01 -7.137319e+00  \n",
       "75%        0.747424     42.500000  3.793304e+01  3.340762e+00  \n",
       "max        0.999943    504.000000  2.891277e+03  4.097225e+02  "
      ]
     },
     "execution_count": 325,
     "metadata": {},
     "output_type": "execute_result"
    }
   ],
   "source": [
    "segment_dropped.describe()"
   ]
  },
  {
   "cell_type": "code",
   "execution_count": 326,
   "metadata": {},
   "outputs": [
    {
     "data": {
      "image/png": "[encoded data removed]",
      "text/plain": [
       "<Figure size 432x288 with 1 Axes>"
      ]
     },
     "metadata": {
      "needs_background": "light"
     },
     "output_type": "display_data"
    }
   ],
   "source": [
    "plt.scatter(x=pca_result[:,0],y=pca_result[:,1]);"
   ]
  },
  {
   "cell_type": "markdown",
   "metadata": {},
   "source": [
    "Всего две компоненты нужно чтобы объяснить 99% дисперсии, однако, проектиция на них не дает какой-либо интерпретируемой информации"
   ]
  },
  {
   "cell_type": "markdown",
   "metadata": {},
   "source": [
    "Попробуем воспользоваться стандартными методами кластеризации для главных компонент, так как они распределены достаточно близко друг к другу, то масштабирование делать необязательно "
   ]
  },
  {
   "cell_type": "code",
   "execution_count": 327,
   "metadata": {},
   "outputs": [],
   "source": [
    "from sklearn.cluster import KMeans"
   ]
  },
  {
   "cell_type": "code",
   "execution_count": 328,
   "metadata": {},
   "outputs": [],
   "source": [
    "kmeans = KMeans(n_clusters = 3, n_init=100)\n",
    "kmeans.fit(pca_result)\n",
    "cluster_labels = kmeans.labels_"
   ]
  },
  {
   "cell_type": "code",
   "execution_count": 329,
   "metadata": {},
   "outputs": [
    {
     "data": {
      "image/png": "[encoded data removed]",
      "text/plain": [
       "<Figure size 432x288 with 1 Axes>"
      ]
     },
     "metadata": {
      "needs_background": "light"
     },
     "output_type": "display_data"
    }
   ],
   "source": [
    "plt.scatter(x=pca_result[:,0],y=pca_result[:,1], c=cluster_labels);"
   ]
  },
  {
   "cell_type": "markdown",
   "metadata": {},
   "source": [
    "Разбиение на кластеры довольно неопределенное, четкую границу между кластерами не видно.\n",
    "Попробуем провести кластеризацию по основным признакам"
   ]
  },
  {
   "cell_type": "code",
   "execution_count": 330,
   "metadata": {},
   "outputs": [],
   "source": [
    "main_features = segment_dropped[['Monetary','Frequency','factor_1','mean']]"
   ]
  },
  {
   "cell_type": "code",
   "execution_count": 331,
   "metadata": {},
   "outputs": [],
   "source": [
    "kmeans = KMeans(n_clusters = 2, n_init=100)\n",
    "kmeans.fit(main_features)\n",
    "cluster_labels = kmeans.labels_"
   ]
  },
  {
   "cell_type": "code",
   "execution_count": 332,
   "metadata": {},
   "outputs": [
    {
     "data": {
      "image/png": "[encoded data removed]",
      "text/plain": [
       "<Figure size 432x288 with 1 Axes>"
      ]
     },
     "metadata": {
      "needs_background": "light"
     },
     "output_type": "display_data"
    }
   ],
   "source": [
    "plt.scatter(x=segment_dropped['mean'],y=segment_dropped['Frequency'], c=cluster_labels);"
   ]
  },
  {
   "cell_type": "code",
   "execution_count": 333,
   "metadata": {},
   "outputs": [],
   "source": [
    "from sklearn.cluster import DBSCAN"
   ]
  },
  {
   "cell_type": "code",
   "execution_count": 334,
   "metadata": {},
   "outputs": [],
   "source": [
    "db = DBSCAN(min_samples=300,eps=5).fit(main_features)\n",
    "labels = db.labels_"
   ]
  },
  {
   "cell_type": "code",
   "execution_count": 335,
   "metadata": {},
   "outputs": [
    {
     "data": {
      "text/plain": [
       "array([-1,  0,  1,  2,  3,  4], dtype=int64)"
      ]
     },
     "execution_count": 335,
     "metadata": {},
     "output_type": "execute_result"
    }
   ],
   "source": [
    "np.unique(labels)"
   ]
  },
  {
   "cell_type": "code",
   "execution_count": 336,
   "metadata": {},
   "outputs": [
    {
     "data": {
      "image/png": "[encoded data removed]",
      "text/plain": [
       "<Figure size 432x288 with 1 Axes>"
      ]
     },
     "metadata": {
      "needs_background": "light"
     },
     "output_type": "display_data"
    }
   ],
   "source": [
    "plt.scatter(x=segment_dropped['mean'],y=segment_dropped['Frequency'], c=labels);"
   ]
  },
  {
   "cell_type": "markdown",
   "metadata": {},
   "source": [
    "DBSACAN так же показал неоднозначные результаты, варьирование параметрами тоже не помогло"
   ]
  },
  {
   "cell_type": "markdown",
   "metadata": {},
   "source": [
    "Попробуем поработать с датами"
   ]
  },
  {
   "cell_type": "code",
   "execution_count": 337,
   "metadata": {},
   "outputs": [],
   "source": [
    "#from datetime import date\n",
    "#def diff_dates(date1, date2):\n",
    "#   return (date2-date1).days"
   ]
  },
  {
   "cell_type": "code",
   "execution_count": 338,
   "metadata": {},
   "outputs": [],
   "source": [
    "#dateparse = lambda dates: [pd.datetime.strptime(d, '%Y-%m-%d %H:%M:%S') for d in dates]"
   ]
  },
  {
   "cell_type": "code",
   "execution_count": 339,
   "metadata": {},
   "outputs": [],
   "source": [
    "max_date = segment['Recency'].max()"
   ]
  },
  {
   "cell_type": "code",
   "execution_count": 340,
   "metadata": {},
   "outputs": [],
   "source": [
    "segment['days_ago'] = (max_date - segment.Recency).dt.days"
   ]
  },
  {
   "cell_type": "code",
   "execution_count": 341,
   "metadata": {},
   "outputs": [],
   "source": [
    "segment['mean'] = segment['Monetary']/segment['Frequency']"
   ]
  },
  {
   "cell_type": "code",
   "execution_count": 342,
   "metadata": {},
   "outputs": [],
   "source": [
    "segment = segment.drop(columns=['CustomerId','Recency','factor_1','factor_2','factor_3','factor_4'])"
   ]
  },
  {
   "cell_type": "code",
   "execution_count": 343,
   "metadata": {},
   "outputs": [
    {
     "data": {
      "text/html": [
       "<div>\n",
       "<style scoped>\n",
       "    .dataframe tbody tr th:only-of-type {\n",
       "        vertical-align: middle;\n",
       "    }\n",
       "\n",
       "    .dataframe tbody tr th {\n",
       "        vertical-align: top;\n",
       "    }\n",
       "\n",
       "    .dataframe thead th {\n",
       "        text-align: right;\n",
       "    }\n",
       "</style>\n",
       "<table border=\"1\" class=\"dataframe\">\n",
       "  <thead>\n",
       "    <tr style=\"text-align: right;\">\n",
       "      <th></th>\n",
       "      <th>Monetary</th>\n",
       "      <th>Frequency</th>\n",
       "      <th>days_ago</th>\n",
       "      <th>mean</th>\n",
       "    </tr>\n",
       "  </thead>\n",
       "  <tbody>\n",
       "    <tr>\n",
       "      <th>count</th>\n",
       "      <td>16000.000000</td>\n",
       "      <td>16000.000000</td>\n",
       "      <td>16000.000000</td>\n",
       "      <td>16000.000000</td>\n",
       "    </tr>\n",
       "    <tr>\n",
       "      <th>mean</th>\n",
       "      <td>129.972264</td>\n",
       "      <td>3.950687</td>\n",
       "      <td>58.882688</td>\n",
       "      <td>36.570692</td>\n",
       "    </tr>\n",
       "    <tr>\n",
       "      <th>std</th>\n",
       "      <td>179.809263</td>\n",
       "      <td>5.189864</td>\n",
       "      <td>51.236764</td>\n",
       "      <td>53.285177</td>\n",
       "    </tr>\n",
       "    <tr>\n",
       "      <th>min</th>\n",
       "      <td>0.000000</td>\n",
       "      <td>1.000000</td>\n",
       "      <td>0.000000</td>\n",
       "      <td>0.000000</td>\n",
       "    </tr>\n",
       "    <tr>\n",
       "      <th>25%</th>\n",
       "      <td>20.910000</td>\n",
       "      <td>1.000000</td>\n",
       "      <td>8.000000</td>\n",
       "      <td>13.415000</td>\n",
       "    </tr>\n",
       "    <tr>\n",
       "      <th>50%</th>\n",
       "      <td>59.275000</td>\n",
       "      <td>2.000000</td>\n",
       "      <td>50.000000</td>\n",
       "      <td>21.250000</td>\n",
       "    </tr>\n",
       "    <tr>\n",
       "      <th>75%</th>\n",
       "      <td>170.000000</td>\n",
       "      <td>5.000000</td>\n",
       "      <td>93.000000</td>\n",
       "      <td>42.500000</td>\n",
       "    </tr>\n",
       "    <tr>\n",
       "      <th>max</th>\n",
       "      <td>3040.000000</td>\n",
       "      <td>111.000000</td>\n",
       "      <td>166.000000</td>\n",
       "      <td>504.000000</td>\n",
       "    </tr>\n",
       "  </tbody>\n",
       "</table>\n",
       "</div>"
      ],
      "text/plain": [
       "           Monetary     Frequency      days_ago          mean\n",
       "count  16000.000000  16000.000000  16000.000000  16000.000000\n",
       "mean     129.972264      3.950687     58.882688     36.570692\n",
       "std      179.809263      5.189864     51.236764     53.285177\n",
       "min        0.000000      1.000000      0.000000      0.000000\n",
       "25%       20.910000      1.000000      8.000000     13.415000\n",
       "50%       59.275000      2.000000     50.000000     21.250000\n",
       "75%      170.000000      5.000000     93.000000     42.500000\n",
       "max     3040.000000    111.000000    166.000000    504.000000"
      ]
     },
     "execution_count": 343,
     "metadata": {},
     "output_type": "execute_result"
    }
   ],
   "source": [
    "segment.describe()"
   ]
  },
  {
   "cell_type": "code",
   "execution_count": 344,
   "metadata": {},
   "outputs": [
    {
     "data": {
      "image/png": "[encoded data removed]",
      "text/plain": [
       "<Figure size 432x288 with 3 Axes>"
      ]
     },
     "metadata": {
      "needs_background": "light"
     },
     "output_type": "display_data"
    }
   ],
   "source": [
    "plt.subplot(2,3,1)\n",
    "plt.scatter(x=segment['Monetary'],y=segment['days_ago']);\n",
    "plt.title('Monetary')\n",
    "\n",
    "plt.subplot(2,3,2)\n",
    "plt.scatter(x=segment['Frequency'],y=segment['days_ago']);\n",
    "plt.title('Frequency')\n",
    "\n",
    "plt.subplot(2,3,3)\n",
    "plt.scatter(x=segment['mean'],y=segment['days_ago']);\n",
    "plt.title('mean')\n",
    "\n",
    "plt.show()"
   ]
  },
  {
   "cell_type": "markdown",
   "metadata": {},
   "source": [
    "Monetary и Frequency приблизительно одинаково ведут себя с переменной days ago показывают, что люди, которые платят часто или много (причем это могут быть одни и те же люди) совершили свой послежний платеж достаточно недавно. \n",
    "\n",
    "По переменной mean сложно что-то сказать однозначное\n",
    "\n",
    "Исходя из всего проведенного анализа можно предположительно поделить пользователей на категории: \n",
    "\n",
    "Первая группа – \"высокоэффективные\" пользователи те, которые приносят большой доход компании и(или) платят часто, и у которых последний платеж был совсем недавно, то есть до 30 дней. Таких пользователей можно поощрать различными скидками и подарками, тем самым повышая лояльность по отношению к компании.\n",
    "\n",
    "Вторая группа – \"вяленькие\" пользователи, которые платят реже или маленькими суммами, и последний платеж у которых был совершен достаточно давно, от одного до трех месяцев. Эту группу пользователей нужно стимулировать на продолжение сотрудничества различными предложениями.\n",
    "\n",
    "Третья группа – скорее всего ушедшие пользователи, они немного платили и совершали редкие платежи, причем более трех месяцев назад, исходя из этого можно сделать предположение, что они по большей части уже не заинтересованы в продукте, хотя, возможно, сильные изменения их могут привлеч.\n",
    "\n",
    "Также можно попытаться выделить группы Other, куда бы попали пользователи, отклоняющиеся на графиках от основного скопления точек. Это пользователи, которые совершали свои платежи достаточно давно, но часто или по-многу. "
   ]
  },
  {
   "cell_type": "code",
   "execution_count": 345,
   "metadata": {},
   "outputs": [],
   "source": [
    "segment1 = segment.copy()"
   ]
  },
  {
   "cell_type": "code",
   "execution_count": 346,
   "metadata": {},
   "outputs": [],
   "source": [
    "segment1['class'] = 0"
   ]
  },
  {
   "cell_type": "code",
   "execution_count": 353,
   "metadata": {},
   "outputs": [
    {
     "data": {
      "text/html": [
       "<div>\n",
       "<style scoped>\n",
       "    .dataframe tbody tr th:only-of-type {\n",
       "        vertical-align: middle;\n",
       "    }\n",
       "\n",
       "    .dataframe tbody tr th {\n",
       "        vertical-align: top;\n",
       "    }\n",
       "\n",
       "    .dataframe thead th {\n",
       "        text-align: right;\n",
       "    }\n",
       "</style>\n",
       "<table border=\"1\" class=\"dataframe\">\n",
       "  <thead>\n",
       "    <tr style=\"text-align: right;\">\n",
       "      <th></th>\n",
       "      <th>Monetary</th>\n",
       "      <th>Frequency</th>\n",
       "      <th>days_ago</th>\n",
       "      <th>mean</th>\n",
       "      <th>class</th>\n",
       "    </tr>\n",
       "  </thead>\n",
       "  <tbody>\n",
       "    <tr>\n",
       "      <th>0</th>\n",
       "      <td>100.40</td>\n",
       "      <td>6</td>\n",
       "      <td>12</td>\n",
       "      <td>16.733333</td>\n",
       "      <td>0</td>\n",
       "    </tr>\n",
       "    <tr>\n",
       "      <th>1</th>\n",
       "      <td>170.00</td>\n",
       "      <td>4</td>\n",
       "      <td>22</td>\n",
       "      <td>42.500000</td>\n",
       "      <td>0</td>\n",
       "    </tr>\n",
       "    <tr>\n",
       "      <th>2</th>\n",
       "      <td>70.75</td>\n",
       "      <td>6</td>\n",
       "      <td>22</td>\n",
       "      <td>11.791667</td>\n",
       "      <td>0</td>\n",
       "    </tr>\n",
       "    <tr>\n",
       "      <th>3</th>\n",
       "      <td>75.00</td>\n",
       "      <td>10</td>\n",
       "      <td>88</td>\n",
       "      <td>7.500000</td>\n",
       "      <td>0</td>\n",
       "    </tr>\n",
       "    <tr>\n",
       "      <th>4</th>\n",
       "      <td>94.51</td>\n",
       "      <td>5</td>\n",
       "      <td>67</td>\n",
       "      <td>18.902000</td>\n",
       "      <td>0</td>\n",
       "    </tr>\n",
       "  </tbody>\n",
       "</table>\n",
       "</div>"
      ],
      "text/plain": [
       "   Monetary  Frequency  days_ago       mean  class\n",
       "0    100.40          6        12  16.733333      0\n",
       "1    170.00          4        22  42.500000      0\n",
       "2     70.75          6        22  11.791667      0\n",
       "3     75.00         10        88   7.500000      0\n",
       "4     94.51          5        67  18.902000      0"
      ]
     },
     "execution_count": 353,
     "metadata": {},
     "output_type": "execute_result"
    }
   ],
   "source": [
    "segment1.head()"
   ]
  },
  {
   "cell_type": "code",
   "execution_count": 348,
   "metadata": {},
   "outputs": [],
   "source": [
    "#segment1[segment1['days_ago'] > 100].count()"
   ]
  },
  {
   "cell_type": "code",
   "execution_count": 349,
   "metadata": {},
   "outputs": [],
   "source": [
    "#segment1[segment1['days_ago'] < 31].count()"
   ]
  },
  {
   "cell_type": "code",
   "execution_count": 372,
   "metadata": {},
   "outputs": [],
   "source": [
    "segment1 = segment1.sort_values(by='days_ago')"
   ]
  },
  {
   "cell_type": "code",
   "execution_count": null,
   "metadata": {},
   "outputs": [],
   "source": []
  },
  {
   "cell_type": "code",
   "execution_count": 373,
   "metadata": {},
   "outputs": [
    {
     "name": "stderr",
     "output_type": "stream",
     "text": [
      "C:\\Users\\LENOVO\\Anaconda3\\lib\\site-packages\\pandas\\core\\indexing.py:190: SettingWithCopyWarning: \n",
      "A value is trying to be set on a copy of a slice from a DataFrame\n",
      "\n",
      "See the caveats in the documentation: http://pandas.pydata.org/pandas-docs/stable/indexing.html#indexing-view-versus-copy\n",
      "  self._setitem_with_indexer(indexer, value)\n"
     ]
    }
   ],
   "source": [
    "segment1['class'].iloc[3212:] = int(3)\n",
    "segment1['class'].iloc[0:6624] = int(1)\n",
    "segment1['class'].iloc[6623:12788] = int(2)\n",
    "#segment1['class'].iloc[0:6624] = int(1)"
   ]
  },
  {
   "cell_type": "code",
   "execution_count": 364,
   "metadata": {},
   "outputs": [
    {
     "data": {
      "text/plain": [
       "array([1, 2, 3], dtype=int64)"
      ]
     },
     "execution_count": 364,
     "metadata": {},
     "output_type": "execute_result"
    }
   ],
   "source": [
    "np.unique(segment1['class'])"
   ]
  },
  {
   "cell_type": "markdown",
   "metadata": {},
   "source": [
    "Описание получившихся классов"
   ]
  },
  {
   "cell_type": "code",
   "execution_count": 374,
   "metadata": {},
   "outputs": [
    {
     "data": {
      "text/html": [
       "<div>\n",
       "<style scoped>\n",
       "    .dataframe tbody tr th:only-of-type {\n",
       "        vertical-align: middle;\n",
       "    }\n",
       "\n",
       "    .dataframe tbody tr th {\n",
       "        vertical-align: top;\n",
       "    }\n",
       "\n",
       "    .dataframe thead th {\n",
       "        text-align: right;\n",
       "    }\n",
       "</style>\n",
       "<table border=\"1\" class=\"dataframe\">\n",
       "  <thead>\n",
       "    <tr style=\"text-align: right;\">\n",
       "      <th></th>\n",
       "      <th>Monetary</th>\n",
       "      <th>Frequency</th>\n",
       "      <th>days_ago</th>\n",
       "      <th>mean</th>\n",
       "      <th>class</th>\n",
       "    </tr>\n",
       "  </thead>\n",
       "  <tbody>\n",
       "    <tr>\n",
       "      <th>count</th>\n",
       "      <td>6623.000000</td>\n",
       "      <td>6623.000000</td>\n",
       "      <td>6623.000000</td>\n",
       "      <td>6623.000000</td>\n",
       "      <td>6623.0</td>\n",
       "    </tr>\n",
       "    <tr>\n",
       "      <th>mean</th>\n",
       "      <td>183.073219</td>\n",
       "      <td>5.259852</td>\n",
       "      <td>9.320701</td>\n",
       "      <td>39.419337</td>\n",
       "      <td>1.0</td>\n",
       "    </tr>\n",
       "    <tr>\n",
       "      <th>std</th>\n",
       "      <td>218.860634</td>\n",
       "      <td>6.553589</td>\n",
       "      <td>8.292330</td>\n",
       "      <td>47.614336</td>\n",
       "      <td>0.0</td>\n",
       "    </tr>\n",
       "    <tr>\n",
       "      <th>min</th>\n",
       "      <td>0.000000</td>\n",
       "      <td>1.000000</td>\n",
       "      <td>0.000000</td>\n",
       "      <td>0.000000</td>\n",
       "      <td>1.0</td>\n",
       "    </tr>\n",
       "    <tr>\n",
       "      <th>25%</th>\n",
       "      <td>39.340000</td>\n",
       "      <td>2.000000</td>\n",
       "      <td>2.000000</td>\n",
       "      <td>15.001250</td>\n",
       "      <td>1.0</td>\n",
       "    </tr>\n",
       "    <tr>\n",
       "      <th>50%</th>\n",
       "      <td>110.000000</td>\n",
       "      <td>3.000000</td>\n",
       "      <td>7.000000</td>\n",
       "      <td>27.500000</td>\n",
       "      <td>1.0</td>\n",
       "    </tr>\n",
       "    <tr>\n",
       "      <th>75%</th>\n",
       "      <td>260.000000</td>\n",
       "      <td>6.000000</td>\n",
       "      <td>15.000000</td>\n",
       "      <td>48.000000</td>\n",
       "      <td>1.0</td>\n",
       "    </tr>\n",
       "    <tr>\n",
       "      <th>max</th>\n",
       "      <td>3040.000000</td>\n",
       "      <td>111.000000</td>\n",
       "      <td>30.000000</td>\n",
       "      <td>493.790000</td>\n",
       "      <td>1.0</td>\n",
       "    </tr>\n",
       "  </tbody>\n",
       "</table>\n",
       "</div>"
      ],
      "text/plain": [
       "          Monetary    Frequency     days_ago         mean   class\n",
       "count  6623.000000  6623.000000  6623.000000  6623.000000  6623.0\n",
       "mean    183.073219     5.259852     9.320701    39.419337     1.0\n",
       "std     218.860634     6.553589     8.292330    47.614336     0.0\n",
       "min       0.000000     1.000000     0.000000     0.000000     1.0\n",
       "25%      39.340000     2.000000     2.000000    15.001250     1.0\n",
       "50%     110.000000     3.000000     7.000000    27.500000     1.0\n",
       "75%     260.000000     6.000000    15.000000    48.000000     1.0\n",
       "max    3040.000000   111.000000    30.000000   493.790000     1.0"
      ]
     },
     "execution_count": 374,
     "metadata": {},
     "output_type": "execute_result"
    }
   ],
   "source": [
    "#Класс 1\n",
    "segment1[segment1['class']==1].describe()"
   ]
  },
  {
   "cell_type": "code",
   "execution_count": 375,
   "metadata": {},
   "outputs": [
    {
     "data": {
      "text/html": [
       "<div>\n",
       "<style scoped>\n",
       "    .dataframe tbody tr th:only-of-type {\n",
       "        vertical-align: middle;\n",
       "    }\n",
       "\n",
       "    .dataframe tbody tr th {\n",
       "        vertical-align: top;\n",
       "    }\n",
       "\n",
       "    .dataframe thead th {\n",
       "        text-align: right;\n",
       "    }\n",
       "</style>\n",
       "<table border=\"1\" class=\"dataframe\">\n",
       "  <thead>\n",
       "    <tr style=\"text-align: right;\">\n",
       "      <th></th>\n",
       "      <th>Monetary</th>\n",
       "      <th>Frequency</th>\n",
       "      <th>days_ago</th>\n",
       "      <th>mean</th>\n",
       "      <th>class</th>\n",
       "    </tr>\n",
       "  </thead>\n",
       "  <tbody>\n",
       "    <tr>\n",
       "      <th>count</th>\n",
       "      <td>6165.000000</td>\n",
       "      <td>6165.000000</td>\n",
       "      <td>6165.000000</td>\n",
       "      <td>6165.000000</td>\n",
       "      <td>6165.0</td>\n",
       "    </tr>\n",
       "    <tr>\n",
       "      <th>mean</th>\n",
       "      <td>106.548174</td>\n",
       "      <td>3.532522</td>\n",
       "      <td>70.392539</td>\n",
       "      <td>33.029899</td>\n",
       "      <td>2.0</td>\n",
       "    </tr>\n",
       "    <tr>\n",
       "      <th>std</th>\n",
       "      <td>143.424911</td>\n",
       "      <td>4.082908</td>\n",
       "      <td>20.561418</td>\n",
       "      <td>46.647830</td>\n",
       "      <td>0.0</td>\n",
       "    </tr>\n",
       "    <tr>\n",
       "      <th>min</th>\n",
       "      <td>0.000000</td>\n",
       "      <td>1.000000</td>\n",
       "      <td>31.000000</td>\n",
       "      <td>0.000000</td>\n",
       "      <td>2.0</td>\n",
       "    </tr>\n",
       "    <tr>\n",
       "      <th>25%</th>\n",
       "      <td>20.800000</td>\n",
       "      <td>1.000000</td>\n",
       "      <td>54.000000</td>\n",
       "      <td>12.370000</td>\n",
       "      <td>2.0</td>\n",
       "    </tr>\n",
       "    <tr>\n",
       "      <th>50%</th>\n",
       "      <td>50.140000</td>\n",
       "      <td>2.000000</td>\n",
       "      <td>73.000000</td>\n",
       "      <td>20.158571</td>\n",
       "      <td>2.0</td>\n",
       "    </tr>\n",
       "    <tr>\n",
       "      <th>75%</th>\n",
       "      <td>130.000000</td>\n",
       "      <td>4.000000</td>\n",
       "      <td>88.000000</td>\n",
       "      <td>39.680000</td>\n",
       "      <td>2.0</td>\n",
       "    </tr>\n",
       "    <tr>\n",
       "      <th>max</th>\n",
       "      <td>1660.000000</td>\n",
       "      <td>57.000000</td>\n",
       "      <td>100.000000</td>\n",
       "      <td>504.000000</td>\n",
       "      <td>2.0</td>\n",
       "    </tr>\n",
       "  </tbody>\n",
       "</table>\n",
       "</div>"
      ],
      "text/plain": [
       "          Monetary    Frequency     days_ago         mean   class\n",
       "count  6165.000000  6165.000000  6165.000000  6165.000000  6165.0\n",
       "mean    106.548174     3.532522    70.392539    33.029899     2.0\n",
       "std     143.424911     4.082908    20.561418    46.647830     0.0\n",
       "min       0.000000     1.000000    31.000000     0.000000     2.0\n",
       "25%      20.800000     1.000000    54.000000    12.370000     2.0\n",
       "50%      50.140000     2.000000    73.000000    20.158571     2.0\n",
       "75%     130.000000     4.000000    88.000000    39.680000     2.0\n",
       "max    1660.000000    57.000000   100.000000   504.000000     2.0"
      ]
     },
     "execution_count": 375,
     "metadata": {},
     "output_type": "execute_result"
    }
   ],
   "source": [
    "#Класс 2\n",
    "segment1[segment1['class']==2].describe()"
   ]
  },
  {
   "cell_type": "code",
   "execution_count": 376,
   "metadata": {},
   "outputs": [
    {
     "data": {
      "text/html": [
       "<div>\n",
       "<style scoped>\n",
       "    .dataframe tbody tr th:only-of-type {\n",
       "        vertical-align: middle;\n",
       "    }\n",
       "\n",
       "    .dataframe tbody tr th {\n",
       "        vertical-align: top;\n",
       "    }\n",
       "\n",
       "    .dataframe thead th {\n",
       "        text-align: right;\n",
       "    }\n",
       "</style>\n",
       "<table border=\"1\" class=\"dataframe\">\n",
       "  <thead>\n",
       "    <tr style=\"text-align: right;\">\n",
       "      <th></th>\n",
       "      <th>Monetary</th>\n",
       "      <th>Frequency</th>\n",
       "      <th>days_ago</th>\n",
       "      <th>mean</th>\n",
       "      <th>class</th>\n",
       "    </tr>\n",
       "  </thead>\n",
       "  <tbody>\n",
       "    <tr>\n",
       "      <th>count</th>\n",
       "      <td>3212.000000</td>\n",
       "      <td>3212.000000</td>\n",
       "      <td>3212.000000</td>\n",
       "      <td>3212.000000</td>\n",
       "      <td>3212.0</td>\n",
       "    </tr>\n",
       "    <tr>\n",
       "      <th>mean</th>\n",
       "      <td>65.439851</td>\n",
       "      <td>2.053861</td>\n",
       "      <td>138.985679</td>\n",
       "      <td>37.492988</td>\n",
       "      <td>3.0</td>\n",
       "    </tr>\n",
       "    <tr>\n",
       "      <th>std</th>\n",
       "      <td>108.562651</td>\n",
       "      <td>2.481679</td>\n",
       "      <td>19.684536</td>\n",
       "      <td>72.475610</td>\n",
       "      <td>0.0</td>\n",
       "    </tr>\n",
       "    <tr>\n",
       "      <th>min</th>\n",
       "      <td>0.000000</td>\n",
       "      <td>1.000000</td>\n",
       "      <td>101.000000</td>\n",
       "      <td>0.000000</td>\n",
       "      <td>3.0</td>\n",
       "    </tr>\n",
       "    <tr>\n",
       "      <th>25%</th>\n",
       "      <td>13.420000</td>\n",
       "      <td>1.000000</td>\n",
       "      <td>121.000000</td>\n",
       "      <td>9.157500</td>\n",
       "      <td>3.0</td>\n",
       "    </tr>\n",
       "    <tr>\n",
       "      <th>50%</th>\n",
       "      <td>25.010000</td>\n",
       "      <td>1.000000</td>\n",
       "      <td>141.000000</td>\n",
       "      <td>16.705000</td>\n",
       "      <td>3.0</td>\n",
       "    </tr>\n",
       "    <tr>\n",
       "      <th>75%</th>\n",
       "      <td>60.280000</td>\n",
       "      <td>2.000000</td>\n",
       "      <td>158.000000</td>\n",
       "      <td>35.252500</td>\n",
       "      <td>3.0</td>\n",
       "    </tr>\n",
       "    <tr>\n",
       "      <th>max</th>\n",
       "      <td>1364.000000</td>\n",
       "      <td>61.000000</td>\n",
       "      <td>166.000000</td>\n",
       "      <td>484.390000</td>\n",
       "      <td>3.0</td>\n",
       "    </tr>\n",
       "  </tbody>\n",
       "</table>\n",
       "</div>"
      ],
      "text/plain": [
       "          Monetary    Frequency     days_ago         mean   class\n",
       "count  3212.000000  3212.000000  3212.000000  3212.000000  3212.0\n",
       "mean     65.439851     2.053861   138.985679    37.492988     3.0\n",
       "std     108.562651     2.481679    19.684536    72.475610     0.0\n",
       "min       0.000000     1.000000   101.000000     0.000000     3.0\n",
       "25%      13.420000     1.000000   121.000000     9.157500     3.0\n",
       "50%      25.010000     1.000000   141.000000    16.705000     3.0\n",
       "75%      60.280000     2.000000   158.000000    35.252500     3.0\n",
       "max    1364.000000    61.000000   166.000000   484.390000     3.0"
      ]
     },
     "execution_count": 376,
     "metadata": {},
     "output_type": "execute_result"
    }
   ],
   "source": [
    "#№ласс 3\n",
    "segment1[segment1['class']==3].describe()"
   ]
  },
  {
   "cell_type": "markdown",
   "metadata": {},
   "source": [
    "Из описательной статистики явно видно, как разнятся значения средней принесенной прибыли и среднего количества транзакций. В целом, это достаточно хорошо описывает картину потребления продукта.\n",
    "* У первого класса Monetary = 183, Frequency = 5.25\n",
    "* У второго класса Monetary = 106, Frequency = 3.5\n",
    "* У третьего класса Monetary = 65, Frequency = 2"
   ]
  },
  {
   "cell_type": "markdown",
   "metadata": {},
   "source": [
    "Отобразим получившиеся кластеры"
   ]
  },
  {
   "cell_type": "code",
   "execution_count": 377,
   "metadata": {},
   "outputs": [
    {
     "data": {
      "image/png": "[encoded data removed]",
      "text/plain": [
       "<Figure size 1152x720 with 1 Axes>"
      ]
     },
     "metadata": {
      "needs_background": "light"
     },
     "output_type": "display_data"
    }
   ],
   "source": [
    "rndperm = list(range(1,1000))\n",
    "\n",
    "ax = plt.figure(figsize=(16,10)).gca(projection='3d')\n",
    "ax.scatter(\n",
    "    xs=segment1.loc[rndperm,:][\"Monetary\"], \n",
    "    ys=segment1.loc[rndperm,:][\"Frequency\"], \n",
    "    zs=segment1.loc[rndperm,:][\"days_ago\"],\n",
    "    c=segment1.loc[rndperm,:]['class']\n",
    ")\n",
    "ax.set_xlabel('Monetary')\n",
    "ax.set_ylabel('Frequency')\n",
    "ax.set_zlabel('days_ago')\n",
    "plt.show()"
   ]
  },
  {
   "cell_type": "markdown",
   "metadata": {},
   "source": [
    "На приведенном выше графике отчетливо видно, как в каждом классе есть ряд точек, которые сильно отбиваются от общего скопления, именно эти точки можно было отнести в кластер Other"
   ]
  },
  {
   "cell_type": "code",
   "execution_count": null,
   "metadata": {},
   "outputs": [],
   "source": []
  }
 ],
 "metadata": {
  "kernelspec": {
   "display_name": "Python 3",
   "language": "python",
   "name": "python3"
  },
  "language_info": {
   "codemirror_mode": {
    "name": "ipython",
    "version": 3
   },
   "file_extension": ".py",
   "mimetype": "text/x-python",
   "name": "python",
   "nbconvert_exporter": "python",
   "pygments_lexer": "ipython3",
   "version": "3.7.3"
  }
 },
 "nbformat": 4,
 "nbformat_minor": 2
}

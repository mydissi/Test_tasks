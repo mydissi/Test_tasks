{
 "cells": [
  {
   "cell_type": "markdown",
   "metadata": {},
   "source": [
    "# 0. IMPORT"
   ]
  },
  {
   "cell_type": "code",
   "execution_count": 47,
   "metadata": {},
   "outputs": [],
   "source": [
    "import pandas as pd\n",
    "import numpy as np\n",
    "import math\n",
    "import datetime\n",
    "import json\n",
    "import requests\n",
    "import re\n",
    "import itertools\n",
    "import re\n",
    "import ast\n",
    "from sklearn.utils import shuffle\n",
    "from sklearn.feature_extraction.text import CountVectorizer\n",
    "import collections as co\n",
    "from sklearn.model_selection import train_test_split\n",
    "import time\n",
    "from datetime import timedelta\n",
    "import os\n",
    "os.environ['KMP_DUPLICATE_LIB_OK']='True'"
   ]
  },
  {
   "cell_type": "code",
   "execution_count": 2,
   "metadata": {},
   "outputs": [
    {
     "name": "stdout",
     "output_type": "stream",
     "text": [
      "Populating the interactive namespace from numpy and matplotlib\n"
     ]
    },
    {
     "name": "stderr",
     "output_type": "stream",
     "text": [
      "C:\\Users\\LENOVO\\Anaconda3\\lib\\site-packages\\IPython\\core\\magics\\pylab.py:160: UserWarning: pylab import has clobbered these variables: ['shuffle']\n",
      "`%matplotlib` prevents importing * from pylab and numpy\n",
      "  \"\\n`%matplotlib` prevents importing * from pylab and numpy\"\n"
     ]
    },
    {
     "data": {
      "text/html": [
       "        <script type=\"text/javascript\">\n",
       "        window.PlotlyConfig = {MathJaxConfig: 'local'};\n",
       "        if (window.MathJax) {MathJax.Hub.Config({SVG: {font: \"STIX-Web\"}});}\n",
       "        if (typeof require !== 'undefined') {\n",
       "        require.undef(\"plotly\");\n",
       "        requirejs.config({\n",
       "            paths: {\n",
       "                'plotly': ['https://cdn.plot.ly/plotly-latest.min']\n",
       "            }\n",
       "        });\n",
       "        require(['plotly'], function(Plotly) {\n",
       "            window._Plotly = Plotly;\n",
       "        });\n",
       "        }\n",
       "        </script>\n",
       "        "
      ]
     },
     "metadata": {},
     "output_type": "display_data"
    }
   ],
   "source": [
    "%matplotlib inline\n",
    "\n",
    "\n",
    "#for visualisation\n",
    "%pylab inline\n",
    "import warnings # current version of seaborn generates a bunch of warnings that we'll ignore\n",
    "warnings.filterwarnings(\"ignore\")\n",
    "import seaborn as sns\n",
    "import matplotlib.pyplot as plt\n",
    "import matplotlib.mlab as mlab\n",
    "sns.set(style=\"white\", color_codes=True)\n",
    "\n",
    "from plotly import __version__\n",
    "from plotly.offline import download_plotlyjs, init_notebook_mode, plot, iplot\n",
    "import plotly.graph_objs as go\n",
    "init_notebook_mode(connected=True)\n",
    "\n"
   ]
  },
  {
   "cell_type": "code",
   "execution_count": 4,
   "metadata": {},
   "outputs": [],
   "source": [
    "\n",
    "import lightgbm as lgb\n"
   ]
  },
  {
   "cell_type": "code",
   "execution_count": 5,
   "metadata": {},
   "outputs": [],
   "source": [
    "warnings.filterwarnings(\"ignore\")"
   ]
  },
  {
   "cell_type": "code",
   "execution_count": null,
   "metadata": {},
   "outputs": [],
   "source": [
    "payments_df = pd.read_csv('./data/payments_2018.csv' , sep = ';' , error_bad_lines = False)\n",
    "payments_df.columns = ['sku' , 'id_payment' , 'date' , 'time' , 'price' , 'discount' , 'id_place' , 'id_good']\n",
    "payments_df.drop(axis = 1,columns = ['id_payment'] , inplace = True)\n",
    "payments_df['date'] = pd.to_datetime(payments_df['date'], format=\"%d.%m.%Y\")\n",
    "\n",
    "goods_df = pd.read_csv('./data/goods.csv' , sep = ';')"
   ]
  },
  {
   "cell_type": "code",
   "execution_count": 7,
   "metadata": {},
   "outputs": [
    {
     "data": {
      "text/html": [
       "<div>\n",
       "<style scoped>\n",
       "    .dataframe tbody tr th:only-of-type {\n",
       "        vertical-align: middle;\n",
       "    }\n",
       "\n",
       "    .dataframe tbody tr th {\n",
       "        vertical-align: top;\n",
       "    }\n",
       "\n",
       "    .dataframe thead th {\n",
       "        text-align: right;\n",
       "    }\n",
       "</style>\n",
       "<table border=\"1\" class=\"dataframe\">\n",
       "  <thead>\n",
       "    <tr style=\"text-align: right;\">\n",
       "      <th></th>\n",
       "      <th>sku</th>\n",
       "      <th>date</th>\n",
       "      <th>time</th>\n",
       "      <th>price</th>\n",
       "      <th>discount</th>\n",
       "      <th>id_place</th>\n",
       "      <th>id_good</th>\n",
       "    </tr>\n",
       "  </thead>\n",
       "  <tbody>\n",
       "    <tr>\n",
       "      <th>0</th>\n",
       "      <td>1000438</td>\n",
       "      <td>2018-08-31</td>\n",
       "      <td>10:34</td>\n",
       "      <td>7000</td>\n",
       "      <td>0</td>\n",
       "      <td>43</td>\n",
       "      <td>346</td>\n",
       "    </tr>\n",
       "    <tr>\n",
       "      <th>1</th>\n",
       "      <td>1000426</td>\n",
       "      <td>2018-08-31</td>\n",
       "      <td>10:34</td>\n",
       "      <td>18000</td>\n",
       "      <td>0</td>\n",
       "      <td>99</td>\n",
       "      <td>432</td>\n",
       "    </tr>\n",
       "    <tr>\n",
       "      <th>2</th>\n",
       "      <td>1000536</td>\n",
       "      <td>2018-08-31</td>\n",
       "      <td>10:41</td>\n",
       "      <td>10000</td>\n",
       "      <td>0</td>\n",
       "      <td>41</td>\n",
       "      <td>407</td>\n",
       "    </tr>\n",
       "    <tr>\n",
       "      <th>3</th>\n",
       "      <td>ID:469</td>\n",
       "      <td>2018-08-31</td>\n",
       "      <td>10:42</td>\n",
       "      <td>13500</td>\n",
       "      <td>0</td>\n",
       "      <td>59</td>\n",
       "      <td>469</td>\n",
       "    </tr>\n",
       "    <tr>\n",
       "      <th>4</th>\n",
       "      <td>1000441</td>\n",
       "      <td>2018-08-31</td>\n",
       "      <td>10:47</td>\n",
       "      <td>8000</td>\n",
       "      <td>0</td>\n",
       "      <td>32</td>\n",
       "      <td>348</td>\n",
       "    </tr>\n",
       "  </tbody>\n",
       "</table>\n",
       "</div>"
      ],
      "text/plain": [
       "       sku       date   time  price  discount  id_place  id_good\n",
       "0  1000438 2018-08-31  10:34   7000         0        43      346\n",
       "1  1000426 2018-08-31  10:34  18000         0        99      432\n",
       "2  1000536 2018-08-31  10:41  10000         0        41      407\n",
       "3   ID:469 2018-08-31  10:42  13500         0        59      469\n",
       "4  1000441 2018-08-31  10:47   8000         0        32      348"
      ]
     },
     "execution_count": 7,
     "metadata": {},
     "output_type": "execute_result"
    }
   ],
   "source": [
    "payments_df.head()"
   ]
  },
  {
   "cell_type": "code",
   "execution_count": 8,
   "metadata": {},
   "outputs": [
    {
     "data": {
      "text/html": [
       "<div>\n",
       "<style scoped>\n",
       "    .dataframe tbody tr th:only-of-type {\n",
       "        vertical-align: middle;\n",
       "    }\n",
       "\n",
       "    .dataframe tbody tr th {\n",
       "        vertical-align: top;\n",
       "    }\n",
       "\n",
       "    .dataframe thead th {\n",
       "        text-align: right;\n",
       "    }\n",
       "</style>\n",
       "<table border=\"1\" class=\"dataframe\">\n",
       "  <thead>\n",
       "    <tr style=\"text-align: right;\">\n",
       "      <th></th>\n",
       "      <th>sku</th>\n",
       "      <th>name</th>\n",
       "      <th>price</th>\n",
       "      <th>category_id</th>\n",
       "      <th>category_name</th>\n",
       "    </tr>\n",
       "  </thead>\n",
       "  <tbody>\n",
       "    <tr>\n",
       "      <th>0</th>\n",
       "      <td>1000777.1</td>\n",
       "      <td>Блины с картофелем и грибами</td>\n",
       "      <td>7500</td>\n",
       "      <td>11.0</td>\n",
       "      <td>05. Блины</td>\n",
       "    </tr>\n",
       "    <tr>\n",
       "      <th>1</th>\n",
       "      <td>1000438</td>\n",
       "      <td>Блины с куриной печенью</td>\n",
       "      <td>7000</td>\n",
       "      <td>11.0</td>\n",
       "      <td>05. Блины</td>\n",
       "    </tr>\n",
       "    <tr>\n",
       "      <th>2</th>\n",
       "      <td>1000779.1</td>\n",
       "      <td>Блины с курицей и грибами</td>\n",
       "      <td>12000</td>\n",
       "      <td>11.0</td>\n",
       "      <td>05. Блины</td>\n",
       "    </tr>\n",
       "    <tr>\n",
       "      <th>3</th>\n",
       "      <td>1000439</td>\n",
       "      <td>Блины с семгой и фета с зеленью</td>\n",
       "      <td>11500</td>\n",
       "      <td>11.0</td>\n",
       "      <td>05. Блины</td>\n",
       "    </tr>\n",
       "    <tr>\n",
       "      <th>4</th>\n",
       "      <td>1000441</td>\n",
       "      <td>Блины с творогом и изюмом</td>\n",
       "      <td>8000</td>\n",
       "      <td>11.0</td>\n",
       "      <td>05. Блины</td>\n",
       "    </tr>\n",
       "  </tbody>\n",
       "</table>\n",
       "</div>"
      ],
      "text/plain": [
       "         sku                             name  price  category_id  \\\n",
       "0  1000777.1     Блины с картофелем и грибами   7500         11.0   \n",
       "1    1000438          Блины с куриной печенью   7000         11.0   \n",
       "2  1000779.1        Блины с курицей и грибами  12000         11.0   \n",
       "3    1000439  Блины с семгой и фета с зеленью  11500         11.0   \n",
       "4    1000441        Блины с творогом и изюмом   8000         11.0   \n",
       "\n",
       "  category_name  \n",
       "0     05. Блины  \n",
       "1     05. Блины  \n",
       "2     05. Блины  \n",
       "3     05. Блины  \n",
       "4     05. Блины  "
      ]
     },
     "execution_count": 8,
     "metadata": {},
     "output_type": "execute_result"
    }
   ],
   "source": [
    "goods_df.head()"
   ]
  },
  {
   "cell_type": "code",
   "execution_count": 103,
   "metadata": {},
   "outputs": [],
   "source": [
    "model_df  = pd.merge(payments_df, goods_df[['sku','category_id']], on='sku')\n",
    "\n",
    "\n",
    "pay_aggr_df = None\n",
    "pay_aggr_df = model_df.drop(['sku' , 'time', 'price'] , axis = 1)[:]\n",
    "\n",
    "pay_aggr_df = pay_aggr_df.groupby(['date', 'id_place','id_good' , 'category_id'])[['discount']].count().reset_index()[:]\n",
    "pay_aggr_df.columns = ['date' , 'id_place','id_good' ,'category_id','count']\n"
   ]
  },
  {
   "cell_type": "code",
   "execution_count": 12,
   "metadata": {},
   "outputs": [
    {
     "data": {
      "text/html": [
       "<div>\n",
       "<style scoped>\n",
       "    .dataframe tbody tr th:only-of-type {\n",
       "        vertical-align: middle;\n",
       "    }\n",
       "\n",
       "    .dataframe tbody tr th {\n",
       "        vertical-align: top;\n",
       "    }\n",
       "\n",
       "    .dataframe thead th {\n",
       "        text-align: right;\n",
       "    }\n",
       "</style>\n",
       "<table border=\"1\" class=\"dataframe\">\n",
       "  <thead>\n",
       "    <tr style=\"text-align: right;\">\n",
       "      <th></th>\n",
       "      <th>date</th>\n",
       "      <th>id_place</th>\n",
       "      <th>id_good</th>\n",
       "      <th>category_id</th>\n",
       "      <th>count</th>\n",
       "    </tr>\n",
       "  </thead>\n",
       "  <tbody>\n",
       "    <tr>\n",
       "      <th>0</th>\n",
       "      <td>2018-04-19</td>\n",
       "      <td>32</td>\n",
       "      <td>346</td>\n",
       "      <td>11.0</td>\n",
       "      <td>2</td>\n",
       "    </tr>\n",
       "    <tr>\n",
       "      <th>1</th>\n",
       "      <td>2018-04-19</td>\n",
       "      <td>32</td>\n",
       "      <td>347</td>\n",
       "      <td>11.0</td>\n",
       "      <td>2</td>\n",
       "    </tr>\n",
       "    <tr>\n",
       "      <th>2</th>\n",
       "      <td>2018-04-19</td>\n",
       "      <td>32</td>\n",
       "      <td>349</td>\n",
       "      <td>11.0</td>\n",
       "      <td>2</td>\n",
       "    </tr>\n",
       "    <tr>\n",
       "      <th>3</th>\n",
       "      <td>2018-04-19</td>\n",
       "      <td>32</td>\n",
       "      <td>358</td>\n",
       "      <td>3.0</td>\n",
       "      <td>1</td>\n",
       "    </tr>\n",
       "    <tr>\n",
       "      <th>4</th>\n",
       "      <td>2018-04-19</td>\n",
       "      <td>32</td>\n",
       "      <td>359</td>\n",
       "      <td>3.0</td>\n",
       "      <td>1</td>\n",
       "    </tr>\n",
       "  </tbody>\n",
       "</table>\n",
       "</div>"
      ],
      "text/plain": [
       "        date  id_place  id_good  category_id  count\n",
       "0 2018-04-19        32      346         11.0      2\n",
       "1 2018-04-19        32      347         11.0      2\n",
       "2 2018-04-19        32      349         11.0      2\n",
       "3 2018-04-19        32      358          3.0      1\n",
       "4 2018-04-19        32      359          3.0      1"
      ]
     },
     "execution_count": 12,
     "metadata": {},
     "output_type": "execute_result"
    }
   ],
   "source": [
    "pay_aggr_df.head()"
   ]
  },
  {
   "cell_type": "code",
   "execution_count": 104,
   "metadata": {},
   "outputs": [],
   "source": [
    "pay_aggr_df['count'] = np.log2(pay_aggr_df['count'] + 1)\n",
    "\n",
    "pay_aggr_df['weekday'] = pay_aggr_df['date'].dt.weekday\n",
    "#pay_aggr_df['month'] = pay_aggr_df['date'].dt.month"
   ]
  },
  {
   "cell_type": "code",
   "execution_count": 13,
   "metadata": {},
   "outputs": [
    {
     "data": {
      "text/html": [
       "<div>\n",
       "<style scoped>\n",
       "    .dataframe tbody tr th:only-of-type {\n",
       "        vertical-align: middle;\n",
       "    }\n",
       "\n",
       "    .dataframe tbody tr th {\n",
       "        vertical-align: top;\n",
       "    }\n",
       "\n",
       "    .dataframe thead th {\n",
       "        text-align: right;\n",
       "    }\n",
       "</style>\n",
       "<table border=\"1\" class=\"dataframe\">\n",
       "  <thead>\n",
       "    <tr style=\"text-align: right;\">\n",
       "      <th></th>\n",
       "      <th>date</th>\n",
       "      <th>id_place</th>\n",
       "      <th>id_good</th>\n",
       "      <th>category_id</th>\n",
       "      <th>count</th>\n",
       "      <th>weekday</th>\n",
       "    </tr>\n",
       "  </thead>\n",
       "  <tbody>\n",
       "    <tr>\n",
       "      <th>0</th>\n",
       "      <td>2018-04-19</td>\n",
       "      <td>32</td>\n",
       "      <td>346</td>\n",
       "      <td>11.0</td>\n",
       "      <td>1.584963</td>\n",
       "      <td>3</td>\n",
       "    </tr>\n",
       "    <tr>\n",
       "      <th>1</th>\n",
       "      <td>2018-04-19</td>\n",
       "      <td>32</td>\n",
       "      <td>347</td>\n",
       "      <td>11.0</td>\n",
       "      <td>1.584963</td>\n",
       "      <td>3</td>\n",
       "    </tr>\n",
       "    <tr>\n",
       "      <th>2</th>\n",
       "      <td>2018-04-19</td>\n",
       "      <td>32</td>\n",
       "      <td>349</td>\n",
       "      <td>11.0</td>\n",
       "      <td>1.584963</td>\n",
       "      <td>3</td>\n",
       "    </tr>\n",
       "    <tr>\n",
       "      <th>3</th>\n",
       "      <td>2018-04-19</td>\n",
       "      <td>32</td>\n",
       "      <td>358</td>\n",
       "      <td>3.0</td>\n",
       "      <td>1.000000</td>\n",
       "      <td>3</td>\n",
       "    </tr>\n",
       "    <tr>\n",
       "      <th>4</th>\n",
       "      <td>2018-04-19</td>\n",
       "      <td>32</td>\n",
       "      <td>359</td>\n",
       "      <td>3.0</td>\n",
       "      <td>1.000000</td>\n",
       "      <td>3</td>\n",
       "    </tr>\n",
       "  </tbody>\n",
       "</table>\n",
       "</div>"
      ],
      "text/plain": [
       "        date  id_place  id_good  category_id     count  weekday\n",
       "0 2018-04-19        32      346         11.0  1.584963        3\n",
       "1 2018-04-19        32      347         11.0  1.584963        3\n",
       "2 2018-04-19        32      349         11.0  1.584963        3\n",
       "3 2018-04-19        32      358          3.0  1.000000        3\n",
       "4 2018-04-19        32      359          3.0  1.000000        3"
      ]
     },
     "execution_count": 13,
     "metadata": {},
     "output_type": "execute_result"
    }
   ],
   "source": [
    "pay_aggr_df.head()"
   ]
  },
  {
   "cell_type": "markdown",
   "metadata": {},
   "source": [
    "Чтобы хоть как-то улучшить baseline было принято решение смотреть больше, чем на 10 дней. Сначала была проверена гипотеза о наличии сезонности по месяцам, то есть значение want_days_back равнялось 30, однако, это на дало существенного прироста качества, поэтому было принято решение остановиться на 14, это и не сильно замедляло работу и немного улучшало качество модели."
   ]
  },
  {
   "cell_type": "code",
   "execution_count": 105,
   "metadata": {},
   "outputs": [
    {
     "name": "stdout",
     "output_type": "stream",
     "text": [
      "done\n"
     ]
    }
   ],
   "source": [
    "#add prev days info \n",
    "want_days_back = 14\n",
    "\n",
    "prev_columns = []\n",
    "pct_change_columns = []\n",
    "pct_rename = {}\n",
    "\n",
    "for d in range(want_days_back):\n",
    "    time.sleep(3)\n",
    "    pay_aggr_df['date_prev'] = pay_aggr_df['date'] - datetime.timedelta(days=d+1)\n",
    "    \n",
    "    pay_aggr_df = pd.merge(\n",
    "\n",
    "                            pay_aggr_df\n",
    "                            ,pay_aggr_df[['date', 'id_place' , 'id_good' , 'count']]\n",
    "                         , how='left'\n",
    "                         ,left_on = ['date_prev', 'id_place' , 'id_good']\n",
    "                         ,right_on = ['date', 'id_place' , 'id_good']\n",
    "                         #, left_index=True\n",
    "                         #, right_index=True\n",
    "                         ).drop(['date_y'] , axis = 1).rename(columns={'date_x':'date'\n",
    "                                                                       ,'count_x':'count'\n",
    "                                                                      ,'count_y':'count_prev_'+str(d+1)})\n",
    "    \n",
    "    prev_columns.append('count_prev_'+str(d+1))\n",
    "    pct_change_columns.append('pct_change_'+str(d+1))\n",
    "    pct_rename['count_prev_'+str(d+1)] = 'pct_change_'+str(d+1)\n",
    "    \n",
    "pay_aggr_df.fillna(0 , inplace = True)\n",
    "\n",
    "print('done')"
   ]
  },
  {
   "cell_type": "markdown",
   "metadata": {},
   "source": [
    "На этом этапе для всех категориальных переменных добавляются dummies. Их в итоге получается достаточно много, но учитывая размер выборки, это не слишком критично. Так как в среднем считается, что наблюдений должно быть не менее чем кол-во признаков в квадрате. В данном случае эта эвристика выполняется."
   ]
  },
  {
   "cell_type": "code",
   "execution_count": 106,
   "metadata": {},
   "outputs": [],
   "source": [
    "dfDummies = pd.get_dummies(pay_aggr_df['id_place'], prefix = 'id_place')\n",
    "pay_aggr_df = pd.concat([pay_aggr_df, dfDummies], axis=1)\n",
    "dfDummies = pd.get_dummies(pay_aggr_df['id_good'], prefix = 'id_good')\n",
    "pay_aggr_df = pd.concat([pay_aggr_df, dfDummies], axis=1)\n",
    "dfDummies = pd.get_dummies(pay_aggr_df['category_id'], prefix = 'category_id')\n",
    "pay_aggr_df = pd.concat([pay_aggr_df, dfDummies], axis=1)\n",
    "dfDummies = pd.get_dummies(pay_aggr_df['weekday'], prefix = 'weekday')\n",
    "pay_aggr_df = pd.concat([pay_aggr_df, dfDummies], axis=1)\n",
    "\n",
    "#Месяцы ухудшают модель\n",
    "#dfDummies = pd.get_dummies(pay_aggr_df['month'], prefix = 'month')\n",
    "#pay_aggr_df = pd.concat([pay_aggr_df, dfDummies], axis=1)\n"
   ]
  },
  {
   "cell_type": "code",
   "execution_count": 18,
   "metadata": {},
   "outputs": [
    {
     "data": {
      "text/html": [
       "<div>\n",
       "<style scoped>\n",
       "    .dataframe tbody tr th:only-of-type {\n",
       "        vertical-align: middle;\n",
       "    }\n",
       "\n",
       "    .dataframe tbody tr th {\n",
       "        vertical-align: top;\n",
       "    }\n",
       "\n",
       "    .dataframe thead th {\n",
       "        text-align: right;\n",
       "    }\n",
       "</style>\n",
       "<table border=\"1\" class=\"dataframe\">\n",
       "  <thead>\n",
       "    <tr style=\"text-align: right;\">\n",
       "      <th></th>\n",
       "      <th>date</th>\n",
       "      <th>id_place</th>\n",
       "      <th>id_good</th>\n",
       "      <th>category_id</th>\n",
       "      <th>count</th>\n",
       "      <th>weekday</th>\n",
       "      <th>date_prev</th>\n",
       "      <th>count_prev_1</th>\n",
       "      <th>count_prev_2</th>\n",
       "      <th>count_prev_3</th>\n",
       "      <th>...</th>\n",
       "      <th>category_id_13.0</th>\n",
       "      <th>category_id_14.0</th>\n",
       "      <th>category_id_16.0</th>\n",
       "      <th>weekday_0</th>\n",
       "      <th>weekday_1</th>\n",
       "      <th>weekday_2</th>\n",
       "      <th>weekday_3</th>\n",
       "      <th>weekday_4</th>\n",
       "      <th>weekday_5</th>\n",
       "      <th>weekday_6</th>\n",
       "    </tr>\n",
       "  </thead>\n",
       "  <tbody>\n",
       "    <tr>\n",
       "      <th>0</th>\n",
       "      <td>2018-04-19</td>\n",
       "      <td>32</td>\n",
       "      <td>346</td>\n",
       "      <td>11.0</td>\n",
       "      <td>1.584963</td>\n",
       "      <td>3</td>\n",
       "      <td>2018-04-05</td>\n",
       "      <td>0.0</td>\n",
       "      <td>0.0</td>\n",
       "      <td>0.0</td>\n",
       "      <td>...</td>\n",
       "      <td>0</td>\n",
       "      <td>0</td>\n",
       "      <td>0</td>\n",
       "      <td>0</td>\n",
       "      <td>0</td>\n",
       "      <td>0</td>\n",
       "      <td>1</td>\n",
       "      <td>0</td>\n",
       "      <td>0</td>\n",
       "      <td>0</td>\n",
       "    </tr>\n",
       "    <tr>\n",
       "      <th>1</th>\n",
       "      <td>2018-04-19</td>\n",
       "      <td>32</td>\n",
       "      <td>347</td>\n",
       "      <td>11.0</td>\n",
       "      <td>1.584963</td>\n",
       "      <td>3</td>\n",
       "      <td>2018-04-05</td>\n",
       "      <td>0.0</td>\n",
       "      <td>0.0</td>\n",
       "      <td>0.0</td>\n",
       "      <td>...</td>\n",
       "      <td>0</td>\n",
       "      <td>0</td>\n",
       "      <td>0</td>\n",
       "      <td>0</td>\n",
       "      <td>0</td>\n",
       "      <td>0</td>\n",
       "      <td>1</td>\n",
       "      <td>0</td>\n",
       "      <td>0</td>\n",
       "      <td>0</td>\n",
       "    </tr>\n",
       "    <tr>\n",
       "      <th>2</th>\n",
       "      <td>2018-04-19</td>\n",
       "      <td>32</td>\n",
       "      <td>349</td>\n",
       "      <td>11.0</td>\n",
       "      <td>1.584963</td>\n",
       "      <td>3</td>\n",
       "      <td>2018-04-05</td>\n",
       "      <td>0.0</td>\n",
       "      <td>0.0</td>\n",
       "      <td>0.0</td>\n",
       "      <td>...</td>\n",
       "      <td>0</td>\n",
       "      <td>0</td>\n",
       "      <td>0</td>\n",
       "      <td>0</td>\n",
       "      <td>0</td>\n",
       "      <td>0</td>\n",
       "      <td>1</td>\n",
       "      <td>0</td>\n",
       "      <td>0</td>\n",
       "      <td>0</td>\n",
       "    </tr>\n",
       "    <tr>\n",
       "      <th>3</th>\n",
       "      <td>2018-04-19</td>\n",
       "      <td>32</td>\n",
       "      <td>358</td>\n",
       "      <td>3.0</td>\n",
       "      <td>1.000000</td>\n",
       "      <td>3</td>\n",
       "      <td>2018-04-05</td>\n",
       "      <td>0.0</td>\n",
       "      <td>0.0</td>\n",
       "      <td>0.0</td>\n",
       "      <td>...</td>\n",
       "      <td>0</td>\n",
       "      <td>0</td>\n",
       "      <td>0</td>\n",
       "      <td>0</td>\n",
       "      <td>0</td>\n",
       "      <td>0</td>\n",
       "      <td>1</td>\n",
       "      <td>0</td>\n",
       "      <td>0</td>\n",
       "      <td>0</td>\n",
       "    </tr>\n",
       "    <tr>\n",
       "      <th>4</th>\n",
       "      <td>2018-04-19</td>\n",
       "      <td>32</td>\n",
       "      <td>359</td>\n",
       "      <td>3.0</td>\n",
       "      <td>1.000000</td>\n",
       "      <td>3</td>\n",
       "      <td>2018-04-05</td>\n",
       "      <td>0.0</td>\n",
       "      <td>0.0</td>\n",
       "      <td>0.0</td>\n",
       "      <td>...</td>\n",
       "      <td>0</td>\n",
       "      <td>0</td>\n",
       "      <td>0</td>\n",
       "      <td>0</td>\n",
       "      <td>0</td>\n",
       "      <td>0</td>\n",
       "      <td>1</td>\n",
       "      <td>0</td>\n",
       "      <td>0</td>\n",
       "      <td>0</td>\n",
       "    </tr>\n",
       "  </tbody>\n",
       "</table>\n",
       "<p>5 rows × 351 columns</p>\n",
       "</div>"
      ],
      "text/plain": [
       "        date  id_place  id_good  category_id     count  weekday  date_prev  \\\n",
       "0 2018-04-19        32      346         11.0  1.584963        3 2018-04-05   \n",
       "1 2018-04-19        32      347         11.0  1.584963        3 2018-04-05   \n",
       "2 2018-04-19        32      349         11.0  1.584963        3 2018-04-05   \n",
       "3 2018-04-19        32      358          3.0  1.000000        3 2018-04-05   \n",
       "4 2018-04-19        32      359          3.0  1.000000        3 2018-04-05   \n",
       "\n",
       "   count_prev_1  count_prev_2  count_prev_3  ...  category_id_13.0  \\\n",
       "0           0.0           0.0           0.0  ...                 0   \n",
       "1           0.0           0.0           0.0  ...                 0   \n",
       "2           0.0           0.0           0.0  ...                 0   \n",
       "3           0.0           0.0           0.0  ...                 0   \n",
       "4           0.0           0.0           0.0  ...                 0   \n",
       "\n",
       "   category_id_14.0  category_id_16.0  weekday_0  weekday_1  weekday_2  \\\n",
       "0                 0                 0          0          0          0   \n",
       "1                 0                 0          0          0          0   \n",
       "2                 0                 0          0          0          0   \n",
       "3                 0                 0          0          0          0   \n",
       "4                 0                 0          0          0          0   \n",
       "\n",
       "   weekday_3  weekday_4  weekday_5  weekday_6  \n",
       "0          1          0          0          0  \n",
       "1          1          0          0          0  \n",
       "2          1          0          0          0  \n",
       "3          1          0          0          0  \n",
       "4          1          0          0          0  \n",
       "\n",
       "[5 rows x 351 columns]"
      ]
     },
     "execution_count": 18,
     "metadata": {},
     "output_type": "execute_result"
    }
   ],
   "source": [
    "pay_aggr_df.head()"
   ]
  },
  {
   "cell_type": "code",
   "execution_count": 38,
   "metadata": {},
   "outputs": [
    {
     "data": {
      "text/plain": [
       "1.000000    149285\n",
       "1.584963    102143\n",
       "2.000000     35233\n",
       "2.321928     12986\n",
       "2.584963      4903\n",
       "2.807355      2266\n",
       "3.000000       796\n",
       "3.169925       422\n",
       "3.321928       191\n",
       "3.459432       140\n",
       "3.700440        48\n",
       "3.584963        47\n",
       "3.807355        16\n",
       "3.906891        10\n",
       "4.000000         6\n",
       "4.392317         3\n",
       "4.087463         3\n",
       "4.700440         3\n",
       "4.459432         3\n",
       "4.321928         2\n",
       "4.247928         1\n",
       "Name: count, dtype: int64"
      ]
     },
     "execution_count": 38,
     "metadata": {},
     "output_type": "execute_result"
    }
   ],
   "source": [
    "pay_aggr_df['count'].value_counts()"
   ]
  },
  {
   "cell_type": "markdown",
   "metadata": {},
   "source": [
    "Похоже, что параметры уже перебирали и нашли оптимальные или почти оптимальные, попытки их изменения не дали значительного прироста в качестве модели."
   ]
  },
  {
   "cell_type": "code",
   "execution_count": 107,
   "metadata": {},
   "outputs": [],
   "source": [
    "params = {#'bagging_fraction': 0.9455721266302124,\n",
    " 'num_etirations': 5000,\n",
    " 'learning_rate': 0.15,\n",
    " 'bagging_freq': 14,\n",
    " 'boosting_type': 'gbdt',\n",
    " 'colsample_bytree': 0.678547801189827,\n",
    " 'feature_fraction': 0.6204114599267507,\n",
    " 'max_depth': 21,\n",
    " 'num_leaves': 58,\n",
    " 'is_unbalance': 'True',\n",
    " 'objective': 'regression',\n",
    " 'metric': {'l2', 'mse'}}\n",
    "\n",
    "params['boosting_type'] = 'gbdt'\n",
    "params['objective'] = 'regression'\n",
    "params['metric'] = {'l2','mse'}\n"
   ]
  },
  {
   "cell_type": "code",
   "execution_count": 108,
   "metadata": {},
   "outputs": [],
   "source": [
    "interest_columns = list(set(list(pay_aggr_df.columns)) - set(['date' , 'id_place' , 'id_good' , 'category_id' , 'date_prev' , 'count','weekday']))\n",
    "target_col = 'count'\n",
    "#%%time\n",
    "X_train = pay_aggr_df[interest_columns].loc[:270000][:]\n",
    "X_test = pay_aggr_df[interest_columns].loc[270000:][:]\n",
    "y_train = pay_aggr_df[target_col].loc[:270000][:]\n",
    "y_test = pay_aggr_df[target_col].loc[270000:][:]\n",
    "\n",
    "#X_train, X_test, y_train, y_test = train_test_split(pay_aggr_df[interest_columns][:], pay_aggr_df[target_col][:],\n",
    "#                                                    test_size=0.2,\n",
    "#                                                   random_state=42) \n",
    "\n",
    "lgb_train = lgb.Dataset(X_train, y_train)\n",
    "lgb_eval = lgb.Dataset(X_test, y_test)\n",
    "\n",
    "lgb_tt = lgb.Dataset(pay_aggr_df[interest_columns][:], pay_aggr_df[target_col][:])\n"
   ]
  },
  {
   "cell_type": "code",
   "execution_count": 109,
   "metadata": {},
   "outputs": [],
   "source": [
    "model = lgb.train(params, lgb_train, valid_sets = lgb_eval, verbose_eval=-1)"
   ]
  },
  {
   "cell_type": "code",
   "execution_count": 22,
   "metadata": {},
   "outputs": [
    {
     "data": {
      "image/png": "[encoded data removed]",
      "text/plain": [
       "<Figure size 1440x1080 with 1 Axes>"
      ]
     },
     "metadata": {
      "needs_background": "light"
     },
     "output_type": "display_data"
    }
   ],
   "source": [
    "first = 30\n",
    "\n",
    "sns.set_context(\"paper\", font_scale=2)\n",
    "feature_imp = pd.DataFrame(sorted(zip(model.feature_importance(),model.feature_name())), columns=['Value','Feature'])\n",
    "\n",
    "\n",
    "#feature_imp = feature_imp[~(feature_imp.Feature.isin(['dev_max_turnover']))][:]\n",
    "\n",
    "#feature_imp = feature_imp[int_columns][:]\n",
    "\n",
    "feature_imp = feature_imp.tail(first)[:]\n",
    "\n",
    "plt.figure(figsize=(20, 15))\n",
    "sns.barplot(x=\"Value\", y=\"Feature\", data=feature_imp.sort_values(by=\"Value\", ascending=False))\n",
    "plt.title('LightGBM Features (avg over folds)')\n",
    "plt.tight_layout()\n",
    "plt.show()\n",
    "#plt.savefig('lgbm_importances-01.png')"
   ]
  },
  {
   "cell_type": "code",
   "execution_count": 110,
   "metadata": {},
   "outputs": [],
   "source": [
    "cnt_predict = model.predict(X_test[interest_columns])"
   ]
  },
  {
   "cell_type": "code",
   "execution_count": 24,
   "metadata": {},
   "outputs": [],
   "source": [
    "from sklearn.metrics import mean_squared_error as mse\n",
    "from sklearn.metrics import r2_score as r2"
   ]
  },
  {
   "cell_type": "markdown",
   "metadata": {},
   "source": [
    "Используем также r_square для удобства оценки, так как он является интерпретируемой версие MSE"
   ]
  },
  {
   "cell_type": "code",
   "execution_count": 111,
   "metadata": {},
   "outputs": [
    {
     "data": {
      "text/plain": [
       "0.43576751215105103"
      ]
     },
     "execution_count": 111,
     "metadata": {},
     "output_type": "execute_result"
    }
   ],
   "source": [
    "r2(y_test, cnt_predict)"
   ]
  },
  {
   "cell_type": "code",
   "execution_count": 112,
   "metadata": {},
   "outputs": [
    {
     "data": {
      "text/plain": [
       "0.1425965209273675"
      ]
     },
     "execution_count": 112,
     "metadata": {},
     "output_type": "execute_result"
    }
   ],
   "source": [
    "mse(y_test, cnt_predict)"
   ]
  },
  {
   "cell_type": "markdown",
   "metadata": {},
   "source": [
    "## Итоговый комментарий ##\n",
    "\n",
    "1. Решается задача регрессии, также учитывается зависимость покупок, совершенных несколько дней ранее (в baseline это 10)\n",
    "2. Используется древесная ансамблевая модель типа бустинг с использованием библиотеки lightgbm\n",
    "3. Таргетом является переменная, в которой описано количество продаж определенного товара (count) в определенном месте, эта сумма представлена в виде двоичного логарифма.\n",
    "4. Минимизируется функционал средней квадратичной ошибки MSE(l2)  \n",
    "5. По MSE оценивается качество предсказания, также используется feature importance для оценки значимости переменных тренировочной модели\n"
   ]
  },
  {
   "cell_type": "markdown",
   "metadata": {},
   "source": [
    "Важное наблюдение: если не использовать логарифм, а оставить count как есть, то итоговое значение r_square будет выше, чем при использовании логарифма, однако MSE будет значительно выше.\n",
    "\n",
    "* для модели без гогарифма таргета r_square = 0.4547810214278786, MSE = 0.8347685843199365\n",
    "* для модели с логарифмом таргета r_square = 0.43576751215105103, MSE = 0.1425965209273675\n",
    "\n",
    "Нам известно, что метрика r_square напрямую зависит от MSE и, по сути, является ее интерпретируемым аналогом, поэтому можно сделать вывод, что без логарифма таргета модель получается чуть лучше."
   ]
  }
 ],
 "metadata": {
  "kernelspec": {
   "display_name": "Python 3",
   "language": "python",
   "name": "python3"
  },
  "language_info": {
   "codemirror_mode": {
    "name": "ipython",
    "version": 3
   },
   "file_extension": ".py",
   "mimetype": "text/x-python",
   "name": "python",
   "nbconvert_exporter": "python",
   "pygments_lexer": "ipython3",
   "version": "3.7.3"
  }
 },
 "nbformat": 4,
 "nbformat_minor": 2
}
